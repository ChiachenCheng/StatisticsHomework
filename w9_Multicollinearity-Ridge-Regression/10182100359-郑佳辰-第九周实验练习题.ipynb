{
 "cells": [
  {
   "cell_type": "markdown",
   "metadata": {},
   "source": [
    "# Week9 Multicollinearity-Ridge Regression \n",
    "## 背景描述\n",
    "\n",
    "由于多重共线性的问题本质上在于 $|X^{'}X|\\approx 0$, 因此岭回归的本质就是在这个矩阵上做了手脚, 使得多重共线性的问题得到一定的缓解.  \n",
    "这里我们建立一元线性回归模型: $y=8+3*x_1+4*x_2+5*x_3+1*x_4+\\epsilon$, 我们人工给定 10 个值和 10 个满足正态分布的 $\\epsilon$, 使得其中 $x_3, x_4$ 具有强线性相关性.  \n",
    "由此我们构造了 10 个观测的 4 个变量，具体请见下表：\n",
    "\n",
    "## 数据描述\n",
    "\n",
    "|    var     |         1         |         2          |         3          |         4          |         5         |         6         |         7          |         8          |         9         |        10         |\n",
    "| :--------: | :---------------: | :----------------: | :----------------: | :----------------: | :---------------: | :---------------: | :----------------: | :----------------: | :---------------: | :---------------: |\n",
    "|     X1     | 5.053499791495376 | 4.896359188149629  | 4.5846019652366765 | 3.4627703344989245 | 3.270451004372899 | 4.493105477608886 | 4.4464566375800425 | 4.798063216845086  | 6.427862171550048 | 4.303787732779672 |\n",
    "|     X2     | 5.072933009683874 | 3.6512177680206648 | 5.577820866295013  | 4.068646005580284  | 5.59613146647269  | 6.323457817901293 | 6.079773035399383  | 2.9443980328330173 | 4.457913906178166 | 5.357206466723423 |\n",
    "|     X3     |        1.1        |        1.4         |        1.7         |        1.7         |        1.8        |        1.8        |        1.9         |         2          |        2.3        |        2.4        |\n",
    "|     X4     |        2.2        |         3          |        3.6         |        3.4         |        3.8        |        3.6        |        3.6         |        4.2         |        4.8        |         5         |\n",
    "| $\\epsilon$ |    0.05290865     |    -0.34306401     |     -0.5598349     |     0.64584319     |    -0.37267585    |    -0.87090483    |     0.99051878     |    -1.38493147     |    0.06964761     |     0.0842377     |\n",
    "|     Y      |    51.20514006    |    46.95088463     |    55.60525446     |    47.20873822     |    52.62320303    |    58.50224287    |    59.74898083     |    46.98685031     |    61.48488975    |    59.42442677    |"
   ]
  },
  {
   "cell_type": "markdown",
   "metadata": {},
   "source": [
    "## 参数设置如下:   \n",
    "\n",
    "1. 样本量 n = 10\n",
    "2. 变量个数 p = 4\n",
    "3. 自变量 $x_1$ 的波动 $\\sigma_{x_1}=1$\n",
    "4. 误差的波动 $\\sigma_y=1$"
   ]
  },
  {
   "cell_type": "markdown",
   "metadata": {},
   "source": [
    "## 问题 \n",
    "1. 判断所给数据是否具有多重共线性.\n",
    "2. 若具有多重共线性, 选择适当的岭参数.\n",
    "3. 进行岭回归分析.\n",
    "\n",
    "## 解决方案"
   ]
  },
  {
   "cell_type": "markdown",
   "metadata": {},
   "source": [
    "**Q1：**  \n",
    "\n",
    "多重共线性是指自变量 x1, x2, ..., xp 之间不完全线性相关但是相关性很高的情况。此时，虽然可以得到最小二乘估计，但是精度很低。随着自变量之间相关性增加，最小二乘估计结果的方差会增大。"
   ]
  },
  {
   "cell_type": "markdown",
   "metadata": {},
   "source": [
    "**仿真实验**"
   ]
  },
  {
   "cell_type": "code",
   "execution_count": 1,
   "metadata": {},
   "outputs": [
    {
     "name": "stdout",
     "output_type": "stream",
     "text": [
      "[[1.         5.05349979 5.07293301 1.1        2.2       ]\n",
      " [1.         4.89635919 3.65121777 1.4        3.        ]\n",
      " [1.         4.58460197 5.57782087 1.7        3.6       ]\n",
      " [1.         3.46277033 4.06864601 1.7        3.4       ]\n",
      " [1.         3.270451   5.59613147 1.8        3.8       ]\n",
      " [1.         4.49310548 6.32345782 1.8        3.6       ]\n",
      " [1.         4.44645664 6.07977304 1.9        3.6       ]\n",
      " [1.         4.79806322 2.94439803 2.         4.2       ]\n",
      " [1.         6.42786217 4.45791391 2.3        4.8       ]\n",
      " [1.         4.30378773 5.35720647 2.4        5.        ]]\n",
      "     0         1         2    3    4          Y\n",
      "0  1.0  5.053500  5.072933  1.1  2.2  51.205140\n",
      "1  1.0  4.896359  3.651218  1.4  3.0  46.950885\n",
      "2  1.0  4.584602  5.577821  1.7  3.6  55.605254\n",
      "3  1.0  3.462770  4.068646  1.7  3.4  47.208738\n",
      "4  1.0  3.270451  5.596131  1.8  3.8  52.623203\n",
      "5  1.0  4.493105  6.323458  1.8  3.6  58.502243\n",
      "6  1.0  4.446457  6.079773  1.9  3.6  59.748981\n",
      "7  1.0  4.798063  2.944398  2.0  4.2  46.986850\n",
      "8  1.0  6.427862  4.457914  2.3  4.8  61.484890\n",
      "9  1.0  4.303788  5.357206  2.4  5.0  59.424427\n"
     ]
    }
   ],
   "source": [
    "# Import standard packages\n",
    "import numpy as np\n",
    "import pandas as pd\n",
    "import scipy.stats as stats\n",
    "import matplotlib.pyplot as plt\n",
    "import seaborn as sns\n",
    "\n",
    "# Import additional packages\n",
    "from itertools import combinations\n",
    "import statsmodels.api as sm\n",
    "from statsmodels.stats.outliers_influence import variance_inflation_factor\n",
    "from sklearn import linear_model  # 进行岭回归分析\n",
    "from ipywidgets import interact  # 互动功能\n",
    "%matplotlib inline \n",
    "\n",
    "p = 4\n",
    "n = 10\n",
    "\n",
    "# 上帝视角下的beta: 截距项为 10，三个变量前的系数分别为 2，3，4\n",
    "beta = [8]\n",
    "for i in range(p):\n",
    "    beta.append((i+2)%5+1)\n",
    "beta = np.array(beta)\n",
    "# print(beta)\n",
    "\n",
    "# 构造 X 矩阵\n",
    "X = [[5.053499791495376, 4.896359188149629, 4.5846019652366765, 3.4627703344989245, 3.270451004372899, 4.493105477608886, 4.4464566375800425, 4.798063216845086, 6.427862171550048, 4.303787732779672]]\n",
    "# X = np.random.normal(loc=1.5 , scale=0.2, size=(1,n)).tolist()\n",
    "X.append([5.072933009683874, 3.6512177680206648, 5.577820866295013, 4.068646005580284, 5.59613146647269, 6.323457817901293, 6.079773035399383, 2.9443980328330173, 4.457913906178166, 5.357206466723423])\n",
    "X.append([1.1, 1.4, 1.7, 1.7, 1.8, 1.8, 1.9, 2, 2.3, 2.4])\n",
    "X.append([2.2, 3, 3.6, 3.4, 3.8, 3.6, 3.6, 4.2, 4.8, 5])\n",
    "X.insert(0, np.ones(n))\n",
    "X = np.array(X)\n",
    "X = X.T\n",
    "\n",
    "print(X)\n",
    "\n",
    "# 生成 10 个满足正态分布的 epsilon 值\n",
    "epsilon = [0.05290865, -0.34306401, -0.5598349, 0.64584319, -0.37267585, -0.87090483, 0.99051878, -1.38493147, 0.06964761, 0.0842377]\n",
    "# epsilon = np.random.normal(loc =0.0 , scale= 1, size = (1,n))\n",
    "# print(epsilon)\n",
    "\n",
    "# 上帝视角下的Y\n",
    "Y = X @ beta + epsilon\n",
    "# Y = X @ beta + epsilon[0] # 由于 np.random.normal 生成的列表中的元素仍是一个列表\n",
    "Y = Y.T\n",
    "# print(Y)\n",
    "\n",
    "df = pd.DataFrame(X)\n",
    "df['Y'] = Y\n",
    "print(df)"
   ]
  },
  {
   "cell_type": "markdown",
   "metadata": {},
   "source": [
    "**对原始数据进行多元线性回归分析**"
   ]
  },
  {
   "cell_type": "code",
   "execution_count": 2,
   "metadata": {},
   "outputs": [
    {
     "name": "stderr",
     "output_type": "stream",
     "text": [
      "/Library/Frameworks/Python.framework/Versions/3.6/lib/python3.6/site-packages/scipy/stats/stats.py:1604: UserWarning: kurtosistest only valid for n>=20 ... continuing anyway, n=10\n",
      "  \"anyway, n=%i\" % int(n))\n"
     ]
    },
    {
     "data": {
      "text/html": [
       "<table class=\"simpletable\">\n",
       "<caption>OLS Regression Results</caption>\n",
       "<tr>\n",
       "  <th>Dep. Variable:</th>            <td>y</td>        <th>  R-squared:         </th> <td>   0.991</td>\n",
       "</tr>\n",
       "<tr>\n",
       "  <th>Model:</th>                   <td>OLS</td>       <th>  Adj. R-squared:    </th> <td>   0.984</td>\n",
       "</tr>\n",
       "<tr>\n",
       "  <th>Method:</th>             <td>Least Squares</td>  <th>  F-statistic:       </th> <td>   136.9</td>\n",
       "</tr>\n",
       "<tr>\n",
       "  <th>Date:</th>             <td>Sun, 25 Apr 2021</td> <th>  Prob (F-statistic):</th> <td>2.71e-05</td>\n",
       "</tr>\n",
       "<tr>\n",
       "  <th>Time:</th>                 <td>21:55:57</td>     <th>  Log-Likelihood:    </th> <td> -7.6024</td>\n",
       "</tr>\n",
       "<tr>\n",
       "  <th>No. Observations:</th>      <td>    10</td>      <th>  AIC:               </th> <td>   25.20</td>\n",
       "</tr>\n",
       "<tr>\n",
       "  <th>Df Residuals:</th>          <td>     5</td>      <th>  BIC:               </th> <td>   26.72</td>\n",
       "</tr>\n",
       "<tr>\n",
       "  <th>Df Model:</th>              <td>     4</td>      <th>                     </th>     <td> </td>   \n",
       "</tr>\n",
       "<tr>\n",
       "  <th>Covariance Type:</th>      <td>nonrobust</td>    <th>                     </th>     <td> </td>   \n",
       "</tr>\n",
       "</table>\n",
       "<table class=\"simpletable\">\n",
       "<tr>\n",
       "    <td></td>       <th>coef</th>     <th>std err</th>      <th>t</th>      <th>P>|t|</th>  <th>[0.025</th>    <th>0.975]</th>  \n",
       "</tr>\n",
       "<tr>\n",
       "  <th>const</th> <td>    7.6965</td> <td>    2.132</td> <td>    3.610</td> <td> 0.015</td> <td>    2.215</td> <td>   13.178</td>\n",
       "</tr>\n",
       "<tr>\n",
       "  <th>x1</th>    <td>    2.9804</td> <td>    0.291</td> <td>   10.242</td> <td> 0.000</td> <td>    2.232</td> <td>    3.728</td>\n",
       "</tr>\n",
       "<tr>\n",
       "  <th>x2</th>    <td>    3.9880</td> <td>    0.256</td> <td>   15.574</td> <td> 0.000</td> <td>    3.330</td> <td>    4.646</td>\n",
       "</tr>\n",
       "<tr>\n",
       "  <th>x3</th>    <td>   11.7516</td> <td>    4.308</td> <td>    2.728</td> <td> 0.041</td> <td>    0.679</td> <td>   22.825</td>\n",
       "</tr>\n",
       "<tr>\n",
       "  <th>x4</th>    <td>   -2.2089</td> <td>    2.025</td> <td>   -1.091</td> <td> 0.325</td> <td>   -7.414</td> <td>    2.996</td>\n",
       "</tr>\n",
       "</table>\n",
       "<table class=\"simpletable\">\n",
       "<tr>\n",
       "  <th>Omnibus:</th>       <td> 4.689</td> <th>  Durbin-Watson:     </th> <td>   2.417</td>\n",
       "</tr>\n",
       "<tr>\n",
       "  <th>Prob(Omnibus):</th> <td> 0.096</td> <th>  Jarque-Bera (JB):  </th> <td>   2.404</td>\n",
       "</tr>\n",
       "<tr>\n",
       "  <th>Skew:</th>          <td>-1.199</td> <th>  Prob(JB):          </th> <td>   0.301</td>\n",
       "</tr>\n",
       "<tr>\n",
       "  <th>Kurtosis:</th>      <td> 2.864</td> <th>  Cond. No.          </th> <td>    164.</td>\n",
       "</tr>\n",
       "</table><br/><br/>Notes:<br/>[1] Standard Errors assume that the covariance matrix of the errors is correctly specified."
      ],
      "text/plain": [
       "<class 'statsmodels.iolib.summary.Summary'>\n",
       "\"\"\"\n",
       "                            OLS Regression Results                            \n",
       "==============================================================================\n",
       "Dep. Variable:                      y   R-squared:                       0.991\n",
       "Model:                            OLS   Adj. R-squared:                  0.984\n",
       "Method:                 Least Squares   F-statistic:                     136.9\n",
       "Date:                Sun, 25 Apr 2021   Prob (F-statistic):           2.71e-05\n",
       "Time:                        21:55:57   Log-Likelihood:                -7.6024\n",
       "No. Observations:                  10   AIC:                             25.20\n",
       "Df Residuals:                       5   BIC:                             26.72\n",
       "Df Model:                           4                                         \n",
       "Covariance Type:            nonrobust                                         \n",
       "==============================================================================\n",
       "                 coef    std err          t      P>|t|      [0.025      0.975]\n",
       "------------------------------------------------------------------------------\n",
       "const          7.6965      2.132      3.610      0.015       2.215      13.178\n",
       "x1             2.9804      0.291     10.242      0.000       2.232       3.728\n",
       "x2             3.9880      0.256     15.574      0.000       3.330       4.646\n",
       "x3            11.7516      4.308      2.728      0.041       0.679      22.825\n",
       "x4            -2.2089      2.025     -1.091      0.325      -7.414       2.996\n",
       "==============================================================================\n",
       "Omnibus:                        4.689   Durbin-Watson:                   2.417\n",
       "Prob(Omnibus):                  0.096   Jarque-Bera (JB):                2.404\n",
       "Skew:                          -1.199   Prob(JB):                        0.301\n",
       "Kurtosis:                       2.864   Cond. No.                         164.\n",
       "==============================================================================\n",
       "\n",
       "Notes:\n",
       "[1] Standard Errors assume that the covariance matrix of the errors is correctly specified.\n",
       "\"\"\""
      ]
     },
     "execution_count": 2,
     "metadata": {},
     "output_type": "execute_result"
    }
   ],
   "source": [
    "model= sm.OLS(Y, X).fit()\n",
    "Y_hat = model.fittedvalues\n",
    "beta_hat = model.params\n",
    "model.summary()"
   ]
  },
  {
   "cell_type": "markdown",
   "metadata": {},
   "source": [
    "**对数据标准化:**"
   ]
  },
  {
   "cell_type": "code",
   "execution_count": 3,
   "metadata": {},
   "outputs": [
    {
     "name": "stdout",
     "output_type": "stream",
     "text": [
      "     0         1         2         3         4         Y\n",
      "0  1.0  0.183312  0.048525 -0.615880 -0.619712 -0.160929\n",
      "1  1.0  0.123276 -0.382698 -0.355649 -0.293548 -0.408185\n",
      "2  1.0  0.004167  0.201663 -0.095418 -0.048925  0.094805\n",
      "3  1.0 -0.424436 -0.256087 -0.095418 -0.130466 -0.393199\n",
      "4  1.0 -0.497913  0.207217 -0.008674  0.032616 -0.078512\n"
     ]
    }
   ],
   "source": [
    "# 对数据进行标准化\n",
    "# 自变量 X 的均值\n",
    "X_mean = []\n",
    "for i in range(p):\n",
    "    X_mean.append(np.mean(X[:, i+1])) \n",
    "\n",
    "# 自变量 X 的标准差\n",
    "X_L = []\n",
    "for i in range(p):\n",
    "    X_L.append(sum((X[:, i+1] - X_mean[i]) ** 2))  \n",
    "\n",
    "# 对自变量 X 标准化(截距项不用标准化)\n",
    "X_std = X * 1.0\n",
    "X_std[:,1:p+1] = (X[:,1:p+1] - X_mean) / np.sqrt(X_L)\n",
    "\n",
    "# 对因变量 Y 标准化\n",
    "Y_L = sum((Y - np.mean(Y))**2)\n",
    "Y_std = (Y - np.mean(Y)) / np.sqrt(Y_L)\n",
    "\n",
    "df_std = pd.DataFrame(X_std)\n",
    "df_std['Y'] = Y_std\n",
    "print(df_std.head())"
   ]
  },
  {
   "cell_type": "markdown",
   "metadata": {},
   "source": [
    "**对标准化后的数据进行多元线性回归分析**"
   ]
  },
  {
   "cell_type": "code",
   "execution_count": 4,
   "metadata": {},
   "outputs": [
    {
     "name": "stderr",
     "output_type": "stream",
     "text": [
      "/Library/Frameworks/Python.framework/Versions/3.6/lib/python3.6/site-packages/scipy/stats/stats.py:1604: UserWarning: kurtosistest only valid for n>=20 ... continuing anyway, n=10\n",
      "  \"anyway, n=%i\" % int(n))\n"
     ]
    },
    {
     "data": {
      "text/html": [
       "<table class=\"simpletable\">\n",
       "<caption>OLS Regression Results</caption>\n",
       "<tr>\n",
       "  <th>Dep. Variable:</th>            <td>y</td>        <th>  R-squared:         </th> <td>   0.991</td>\n",
       "</tr>\n",
       "<tr>\n",
       "  <th>Model:</th>                   <td>OLS</td>       <th>  Adj. R-squared:    </th> <td>   0.984</td>\n",
       "</tr>\n",
       "<tr>\n",
       "  <th>Method:</th>             <td>Least Squares</td>  <th>  F-statistic:       </th> <td>   136.9</td>\n",
       "</tr>\n",
       "<tr>\n",
       "  <th>Date:</th>             <td>Sun, 25 Apr 2021</td> <th>  Prob (F-statistic):</th> <td>2.71e-05</td>\n",
       "</tr>\n",
       "<tr>\n",
       "  <th>Time:</th>                 <td>21:55:58</td>     <th>  Log-Likelihood:    </th> <td>  20.850</td>\n",
       "</tr>\n",
       "<tr>\n",
       "  <th>No. Observations:</th>      <td>    10</td>      <th>  AIC:               </th> <td>  -31.70</td>\n",
       "</tr>\n",
       "<tr>\n",
       "  <th>Df Residuals:</th>          <td>     5</td>      <th>  BIC:               </th> <td>  -30.19</td>\n",
       "</tr>\n",
       "<tr>\n",
       "  <th>Df Model:</th>              <td>     4</td>      <th>                     </th>     <td> </td>   \n",
       "</tr>\n",
       "<tr>\n",
       "  <th>Covariance Type:</th>      <td>nonrobust</td>    <th>                     </th>     <td> </td>   \n",
       "</tr>\n",
       "</table>\n",
       "<table class=\"simpletable\">\n",
       "<tr>\n",
       "    <td></td>       <th>coef</th>     <th>std err</th>      <th>t</th>      <th>P>|t|</th>  <th>[0.025</th>    <th>0.975]</th>  \n",
       "</tr>\n",
       "<tr>\n",
       "  <th>const</th> <td> 3.053e-16</td> <td>    0.013</td> <td> 2.27e-14</td> <td> 1.000</td> <td>   -0.035</td> <td>    0.035</td>\n",
       "</tr>\n",
       "<tr>\n",
       "  <th>x1</th>    <td>    0.4534</td> <td>    0.044</td> <td>   10.242</td> <td> 0.000</td> <td>    0.340</td> <td>    0.567</td>\n",
       "</tr>\n",
       "<tr>\n",
       "  <th>x2</th>    <td>    0.7642</td> <td>    0.049</td> <td>   15.574</td> <td> 0.000</td> <td>    0.638</td> <td>    0.890</td>\n",
       "</tr>\n",
       "<tr>\n",
       "  <th>x3</th>    <td>    0.7874</td> <td>    0.289</td> <td>    2.728</td> <td> 0.041</td> <td>    0.045</td> <td>    1.529</td>\n",
       "</tr>\n",
       "<tr>\n",
       "  <th>x4</th>    <td>   -0.3149</td> <td>    0.289</td> <td>   -1.091</td> <td> 0.325</td> <td>   -1.057</td> <td>    0.427</td>\n",
       "</tr>\n",
       "</table>\n",
       "<table class=\"simpletable\">\n",
       "<tr>\n",
       "  <th>Omnibus:</th>       <td> 4.689</td> <th>  Durbin-Watson:     </th> <td>   2.417</td>\n",
       "</tr>\n",
       "<tr>\n",
       "  <th>Prob(Omnibus):</th> <td> 0.096</td> <th>  Jarque-Bera (JB):  </th> <td>   2.404</td>\n",
       "</tr>\n",
       "<tr>\n",
       "  <th>Skew:</th>          <td>-1.199</td> <th>  Prob(JB):          </th> <td>   0.301</td>\n",
       "</tr>\n",
       "<tr>\n",
       "  <th>Kurtosis:</th>      <td> 2.864</td> <th>  Cond. No.          </th> <td>    30.3</td>\n",
       "</tr>\n",
       "</table><br/><br/>Notes:<br/>[1] Standard Errors assume that the covariance matrix of the errors is correctly specified."
      ],
      "text/plain": [
       "<class 'statsmodels.iolib.summary.Summary'>\n",
       "\"\"\"\n",
       "                            OLS Regression Results                            \n",
       "==============================================================================\n",
       "Dep. Variable:                      y   R-squared:                       0.991\n",
       "Model:                            OLS   Adj. R-squared:                  0.984\n",
       "Method:                 Least Squares   F-statistic:                     136.9\n",
       "Date:                Sun, 25 Apr 2021   Prob (F-statistic):           2.71e-05\n",
       "Time:                        21:55:58   Log-Likelihood:                 20.850\n",
       "No. Observations:                  10   AIC:                            -31.70\n",
       "Df Residuals:                       5   BIC:                            -30.19\n",
       "Df Model:                           4                                         \n",
       "Covariance Type:            nonrobust                                         \n",
       "==============================================================================\n",
       "                 coef    std err          t      P>|t|      [0.025      0.975]\n",
       "------------------------------------------------------------------------------\n",
       "const       3.053e-16      0.013   2.27e-14      1.000      -0.035       0.035\n",
       "x1             0.4534      0.044     10.242      0.000       0.340       0.567\n",
       "x2             0.7642      0.049     15.574      0.000       0.638       0.890\n",
       "x3             0.7874      0.289      2.728      0.041       0.045       1.529\n",
       "x4            -0.3149      0.289     -1.091      0.325      -1.057       0.427\n",
       "==============================================================================\n",
       "Omnibus:                        4.689   Durbin-Watson:                   2.417\n",
       "Prob(Omnibus):                  0.096   Jarque-Bera (JB):                2.404\n",
       "Skew:                          -1.199   Prob(JB):                        0.301\n",
       "Kurtosis:                       2.864   Cond. No.                         30.3\n",
       "==============================================================================\n",
       "\n",
       "Notes:\n",
       "[1] Standard Errors assume that the covariance matrix of the errors is correctly specified.\n",
       "\"\"\""
      ]
     },
     "execution_count": 4,
     "metadata": {},
     "output_type": "execute_result"
    }
   ],
   "source": [
    "# Do the multiple linear regression——对标准化后的数据\n",
    "model_std = sm.OLS(Y_std, X_std).fit()\n",
    "beta_std_hat = model_std.params\n",
    "Y_std_hat = model_std.fittedvalues\n",
    "model_std.summary()"
   ]
  },
  {
   "cell_type": "markdown",
   "metadata": {},
   "source": [
    "**求 $(X^*)^{'}(X^*)$ 矩阵的特征值和特征向量:**"
   ]
  },
  {
   "cell_type": "code",
   "execution_count": 5,
   "metadata": {},
   "outputs": [
    {
     "data": {
      "text/html": [
       "<div>\n",
       "<style scoped>\n",
       "    .dataframe tbody tr th:only-of-type {\n",
       "        vertical-align: middle;\n",
       "    }\n",
       "\n",
       "    .dataframe tbody tr th {\n",
       "        vertical-align: top;\n",
       "    }\n",
       "\n",
       "    .dataframe thead th {\n",
       "        text-align: right;\n",
       "    }\n",
       "</style>\n",
       "<table border=\"1\" class=\"dataframe\">\n",
       "  <thead>\n",
       "    <tr style=\"text-align: right;\">\n",
       "      <th></th>\n",
       "      <th>1</th>\n",
       "      <th>2</th>\n",
       "      <th>3</th>\n",
       "      <th>4</th>\n",
       "    </tr>\n",
       "  </thead>\n",
       "  <tbody>\n",
       "    <tr>\n",
       "      <th>1</th>\n",
       "      <td>1.000000</td>\n",
       "      <td>-0.225151</td>\n",
       "      <td>0.146603</td>\n",
       "      <td>0.167910</td>\n",
       "    </tr>\n",
       "    <tr>\n",
       "      <th>2</th>\n",
       "      <td>-0.225151</td>\n",
       "      <td>1.000000</td>\n",
       "      <td>0.045426</td>\n",
       "      <td>-0.032975</td>\n",
       "    </tr>\n",
       "    <tr>\n",
       "      <th>3</th>\n",
       "      <td>0.146603</td>\n",
       "      <td>0.045426</td>\n",
       "      <td>1.000000</td>\n",
       "      <td>0.985999</td>\n",
       "    </tr>\n",
       "    <tr>\n",
       "      <th>4</th>\n",
       "      <td>0.167910</td>\n",
       "      <td>-0.032975</td>\n",
       "      <td>0.985999</td>\n",
       "      <td>1.000000</td>\n",
       "    </tr>\n",
       "  </tbody>\n",
       "</table>\n",
       "</div>"
      ],
      "text/plain": [
       "          1         2         3         4\n",
       "1  1.000000 -0.225151  0.146603  0.167910\n",
       "2 -0.225151  1.000000  0.045426 -0.032975\n",
       "3  0.146603  0.045426  1.000000  0.985999\n",
       "4  0.167910 -0.032975  0.985999  1.000000"
      ]
     },
     "execution_count": 5,
     "metadata": {},
     "output_type": "execute_result"
    }
   ],
   "source": [
    "# (X*)'(X*) 矩阵等价于原始矩阵 X 样本相关矩阵\n",
    "R = df.corr()\n",
    "R = R.iloc[1:-1,1:-1]\n",
    "\n",
    "R"
   ]
  },
  {
   "cell_type": "code",
   "execution_count": 6,
   "metadata": {},
   "outputs": [
    {
     "data": {
      "text/plain": [
       "<AxesSubplot:>"
      ]
     },
     "execution_count": 6,
     "metadata": {},
     "output_type": "execute_result"
    },
    {
     "data": {
      "image/png": "[encoded data removed]",
      "text/plain": [
       "<Figure size 432x288 with 2 Axes>"
      ]
     },
     "metadata": {
      "needs_background": "light"
     },
     "output_type": "display_data"
    }
   ],
   "source": [
    "sns.heatmap(R, cmap='Blues', annot=True) # annot: 在heatmap中每个方格写入数据"
   ]
  },
  {
   "cell_type": "code",
   "execution_count": 7,
   "metadata": {},
   "outputs": [
    {
     "name": "stdout",
     "output_type": "stream",
     "text": [
      "特征值:  [2.03537021 1.20052604 0.7532161  0.01088765]\n"
     ]
    }
   ],
   "source": [
    "# 求特征值 & 特征向量\n",
    "W, V = np.linalg.eig(R)\n",
    "W_diag = np.diag(W)\n",
    "V = V.T # 这里需要转置\n",
    "print('特征值: ', W)"
   ]
  },
  {
   "cell_type": "markdown",
   "metadata": {},
   "source": [
    "**判断 X 矩阵是否具有多重共线性:**"
   ]
  },
  {
   "cell_type": "code",
   "execution_count": 8,
   "metadata": {},
   "outputs": [
    {
     "name": "stdout",
     "output_type": "stream",
     "text": [
      "VIF方法判断结果(阈值为 5): \n",
      "设计矩阵 X 存在多重共线性.\n",
      "\n",
      "特征值判定法判断结果(阈值为 10): \n",
      "设计矩阵 X 存在多重共线性，其中kappa值为：13.6727\n"
     ]
    }
   ],
   "source": [
    "# 定义\"判断多重共线性\"的函数\n",
    "# 参数: (X_list: 设计矩阵 X, thres_vif: VIF 方法判断多重共线性的阈值, thres_kappa: 特征值方法判断多重共线性的阈值)\n",
    "def judge_col(X_list, thres_vif, thres_kappa): \n",
    "    var_num = X_list.shape[1]\n",
    "    print('VIF方法判断结果(阈值为 %d): '% thres_vif)\n",
    "    vif = [variance_inflation_factor(X_list, i) for i in range(var_num)]\n",
    "    for i in range(var_num):\n",
    "        if vif[i] >= thres_vif:\n",
    "            print('设计矩阵 X 存在多重共线性.')\n",
    "            break\n",
    "        elif i == var_num-1:\n",
    "            print('设计矩阵 X 不存在多重共线性.')\n",
    "\n",
    "    print('\\n特征值判定法判断结果(阈值为 %d): '% thres_kappa)\n",
    "    kappa = []\n",
    "    for i in range(var_num):\n",
    "        kappa.append(np.sqrt(max(W) / W[i]))\n",
    "    if np.max(kappa) >= thres_kappa:\n",
    "        print('设计矩阵 X 存在多重共线性，其中kappa值为：%.4f'% np.max(kappa))\n",
    "    else:\n",
    "        print('设计矩阵 X 不存在多重共线性，其中kappa值为：%.4f'% np.max(kappa))\n",
    "\n",
    "# 判断多重共线性\n",
    "X_std1 = X_std[:,1:p+1] # 将 X 矩阵的截距项去掉\n",
    "beta_std_hat1 = beta_std_hat[1:p+1] # 将 β_0 去掉 \n",
    "judge_col(X_std1, 5, 10) # 判断多重共线性\n"
   ]
  },
  {
   "cell_type": "markdown",
   "metadata": {},
   "source": [
    "**Q2:**  \n",
    "\n",
    "称$\\hat\\beta(k)=(\\pmb{X}'\\pmb{X}+k\\pmb{I})^{-1}\\pmb{X}'\\pmb{y}$为岭回归估计，其中k为岭参数。这是为了求解逆矩阵更加方便，且在k很小时与最小二乘估计大约相等。\n",
    "\n",
    "岭参数 $k$ 选择(模型选择)的方法:   \n",
    "1. 岭迹法\n",
    "2. 方差扩大因子法\n",
    "3. 霍尔-肯纳德（Hoerl-Kennad）公式\n",
    "4. Mcdorard-Garaneau 公式"
   ]
  },
  {
   "cell_type": "markdown",
   "metadata": {},
   "source": [
    "1. 岭迹法  \n",
    "岭迹法的一般原则:   \n",
    "· 系数岭估计基本稳定;    \n",
    "· 最小二乘回归下符号不合理的回归系数, 在岭估计的意义下符号变得合理;    \n",
    "· 回归系数合乎经济意义;  \n",
    "· 残差平方和不会增大太多."
   ]
  },
  {
   "cell_type": "code",
   "execution_count": 9,
   "metadata": {
    "scrolled": true
   },
   "outputs": [
    {
     "data": {
      "application/vnd.jupyter.widget-view+json": {
       "model_id": "1a0685ab06374daa8cf612a1cde7bb6d",
       "version_major": 2,
       "version_minor": 0
      },
      "text/plain": [
       "interactive(children=(IntSlider(value=1, description='K', min=1), Output()), _dom_classes=('widget-interact',)…"
      ]
     },
     "metadata": {},
     "output_type": "display_data"
    },
    {
     "data": {
      "text/plain": [
       "<function __main__.RR1(K=1)>"
      ]
     },
     "execution_count": 9,
     "metadata": {},
     "output_type": "execute_result"
    }
   ],
   "source": [
    "# [0, 1) 范围内划分的最大精细程度: [0,0.01,0.02,...,0.99]\n",
    "range_const1 = 100\n",
    "\n",
    "def RR1(K = 1):\n",
    "    # 计算岭估计\n",
    "    rang1 = []\n",
    "    for i in range(K):\n",
    "        rang1.append(i/K) # 岭参数 k 取值范围: [0,1-1/K](例如 K=10, k 取值范围: [0, 0.9])\n",
    "    coefs_1 = []\n",
    "    for k in rang1:\n",
    "        temp1 = np.linalg.inv(X_std1.T @ X_std1 + k * np.eye(p)) @ X_std1.T @ Y_std\n",
    "        coefs_1.append(temp1)\n",
    "\n",
    "    # 画图\n",
    "    # print('参数的数值: ', coefs_1)\n",
    "    coefs_1 = np.array(coefs_1)\n",
    "    for i in range(p):\n",
    "        plt.plot(rang1, coefs_1[:,i], label = 'X%d'%(i+1))\n",
    "    plt.legend(loc = 'best')\n",
    "\n",
    "# 随着 K 值的增加, 岭参数 k 取值越精细, 因为在 [0,1) 范围内的分割更细\n",
    "interact(RR1,K=(1,range_const1))"
   ]
  },
  {
   "cell_type": "code",
   "execution_count": 10,
   "metadata": {},
   "outputs": [
    {
     "data": {
      "application/vnd.jupyter.widget-view+json": {
       "model_id": "fa3fac85a1ed43c098a1c44340174ad3",
       "version_major": 2,
       "version_minor": 0
      },
      "text/plain": [
       "interactive(children=(IntSlider(value=1, description='K', min=1), Output()), _dom_classes=('widget-interact',)…"
      ]
     },
     "metadata": {},
     "output_type": "display_data"
    },
    {
     "data": {
      "text/plain": [
       "<function __main__.RR2(K=1)>"
      ]
     },
     "execution_count": 10,
     "metadata": {},
     "output_type": "execute_result"
    }
   ],
   "source": [
    "# 调包: linear_model \n",
    "def RR2(K = 1): \n",
    "    # 初始化一个Ridge Regression\n",
    "    clf = linear_model.Ridge(fit_intercept=False)\n",
    "\n",
    "    # 训练模型: 测试不同的 k 取值，获得系数\n",
    "    rang2 = []\n",
    "    for i in range(K):\n",
    "        rang2.append(i/K)\n",
    "    coefs_2 = []\n",
    "    for k in rang2:\n",
    "        clf.set_params(alpha=k)\n",
    "        clf.fit(X_std1, Y_std)\n",
    "        coefs_2.append(clf.coef_)\n",
    "\n",
    "    # 画图\n",
    "    # print('参数的数值: ', coefs_2)\n",
    "    coefs_2 = np.array(coefs_2)\n",
    "    for i in range(p):\n",
    "        plt.plot(rang2, coefs_2[:,i], label = 'X%d'%(i+1))   \n",
    "    plt.legend(loc = 'best')\n",
    "\n",
    "interact(RR2,K=(1,range_const1))"
   ]
  },
  {
   "cell_type": "code",
   "execution_count": 11,
   "metadata": {},
   "outputs": [
    {
     "data": {
      "application/vnd.jupyter.widget-view+json": {
       "model_id": "e543c0dbe980495e966cfbcf9d6cec8b",
       "version_major": 2,
       "version_minor": 0
      },
      "text/plain": [
       "interactive(children=(IntSlider(value=1, description='K', max=30, min=1), Output()), _dom_classes=('widget-int…"
      ]
     },
     "metadata": {},
     "output_type": "display_data"
    },
    {
     "data": {
      "text/plain": [
       "<function __main__.RR3(K=1)>"
      ]
     },
     "execution_count": 11,
     "metadata": {},
     "output_type": "execute_result"
    }
   ],
   "source": [
    "# 岭参数 k 的最大取值范围: [exp(-10),exp(19)]\n",
    "range_const2 = 30\n",
    "\n",
    "def RR3(K = 1):\n",
    "    # 初始化一个Ridge Regression\n",
    "    clf = linear_model.Ridge(fit_intercept=False)\n",
    "    \n",
    "    # 训练模型: 测试不同的 k 取值，获得系数\n",
    "    coefs_3 = []\n",
    "    num_lambda3 = K\n",
    "    for k in range(num_lambda3):\n",
    "        clf.set_params(alpha=np.exp(k-10))  # 岭参数 k 取值范围: [exp(-10),exp((K-1)-10)]\n",
    "        clf.fit(X_std1, Y_std)\n",
    "        coefs_3.append(clf.coef_)\n",
    "\n",
    "    # 画图\n",
    "    # print('参数的数值：', coefs_3)\n",
    "    x3 = range(num_lambda3)\n",
    "    coefs_3 = np.array(coefs_3)\n",
    "    for i in range(p):\n",
    "        plt.plot(x3, coefs_3[:,i], label = 'X%d'%(i+1))\n",
    "        plt.text(x3[-1], coefs_3[-1,i], '%.4f' % float(coefs_3[-1,i]), fontsize=8)\n",
    "    print('岭参数为: ', np.exp(K-10))\n",
    "    print('对应的岭估计: ', coefs_3[-1,:])\n",
    "    plt.legend(loc = 'best')\n",
    "\n",
    "interact(RR3,K=(1,range_const2))"
   ]
  },
  {
   "cell_type": "markdown",
   "metadata": {},
   "source": [
    "基于交叉验证的岭回归 alpha 选择可以直接获得一个相对不错的 alpha."
   ]
  },
  {
   "cell_type": "code",
   "execution_count": 12,
   "metadata": {},
   "outputs": [
    {
     "name": "stdout",
     "output_type": "stream",
     "text": [
      "k 的数值 :  0.1\n",
      "参数的数值： [0.39521196 0.71654002 0.30808004 0.15082594]\n"
     ]
    }
   ],
   "source": [
    "# 初始化一个Ridge Cross-Validation Regression\n",
    "clf_cv = linear_model.RidgeCV(fit_intercept=False)\n",
    " \n",
    "# 训练模型\n",
    "clf_cv.fit(X_std1, Y_std)\n",
    "\n",
    "k_cv = clf_cv.alpha_\n",
    "coef_cv = clf_cv.coef_ \n",
    "print('k 的数值 : ', clf_cv.alpha_)\n",
    "print('参数的数值：', clf_cv.coef_)"
   ]
  },
  {
   "cell_type": "code",
   "execution_count": 13,
   "metadata": {},
   "outputs": [
    {
     "name": "stdout",
     "output_type": "stream",
     "text": [
      "[0.39521196 0.71654002 0.30808004 0.15082594]\n",
      "[0.39521196 0.71654002 0.30808004 0.15082594]\n",
      "差异:  [-6.10622664e-16 -2.22044605e-16 -3.99680289e-15 -3.58046925e-15]\n"
     ]
    }
   ],
   "source": [
    "# 验证岭估计和最小二乘估计之间的关系\n",
    "thres_k = int(k_cv * range_const1)\n",
    "print(coef_cv)\n",
    "\n",
    "C1 = X_std1.T @ X_std1\n",
    "C2 = np.linalg.inv(C1 + k_cv * np.eye(p))\n",
    "C3 = C2 @ C1\n",
    "print(C3 @ beta_std_hat1)\n",
    "\n",
    "diff = coef_cv - C3 @ beta_std_hat1\n",
    "print('差异: ', diff)\n"
   ]
  },
  {
   "cell_type": "markdown",
   "metadata": {},
   "source": [
    "2. 方差扩大因子法"
   ]
  },
  {
   "cell_type": "code",
   "execution_count": 14,
   "metadata": {},
   "outputs": [
    {
     "name": "stdout",
     "output_type": "stream",
     "text": [
      "岭参数为:  0.049787068367863944\n",
      "对应的岭估计:  [0.42182275 0.75320769 0.35537606 0.11051347]\n"
     ]
    },
    {
     "data": {
      "image/png": "[encoded data removed]",
      "text/plain": [
       "<Figure size 432x288 with 1 Axes>"
      ]
     },
     "metadata": {
      "needs_background": "light"
     },
     "output_type": "display_data"
    }
   ],
   "source": [
    "coefs_4 = []\n",
    "thres_vif = 5\n",
    "num_lambda4 = 30\n",
    "judge = True\n",
    "for k in range(num_lambda4):\n",
    "    cnt = 0\n",
    "    C = np.linalg.inv(C1 + np.exp(k-10) * np.eye(p)) @ C1 @np.linalg.inv(C1 + np.exp(k-10) * np.eye(p))\n",
    "    # print(k, C)\n",
    "    temp4 = np.linalg.inv(X_std1.T @ X_std1 + np.exp(k-10) * np.eye(p)) @ X_std1.T @ Y_std\n",
    "    coefs_4.append(temp4)\n",
    "    \n",
    "    # 给定 k, 使得所有方差扩大因子 C[j][j] <= thres_vif\n",
    "    for j in range(p):\n",
    "        if C[j][j] < thres_vif:\n",
    "            cnt += 1\n",
    "        else:\n",
    "            break\n",
    "    if cnt == p:\n",
    "        k4 = np.exp(k-10)\n",
    "        print('岭参数为: ', np.exp(k-10))\n",
    "        print('对应的岭估计: ', temp4)\n",
    "        break\n",
    "\n",
    "# 画图\n",
    "coef_4 = temp4\n",
    "# print('参数的数值：', coefs_4)\n",
    "x4 = range(k+1)  # 以 k 作为横坐标\n",
    "# x4 = []  # 以 np.exp(k) 作为横坐标\n",
    "# for i in range(k+1):\n",
    "#      x4.append(np.exp(i-10))\n",
    "coefs_4 = np.array(coefs_4)\n",
    "for i in range(p):\n",
    "    plt.plot(x4, coefs_4[:,i], label = 'X%d'%(i+1))\n",
    "    plt.text(x4[-1], coefs_4[-1,i], '%.4f' % float(coefs_4[-1,i]), fontsize=8)\n",
    "\n",
    "plt.legend(loc = 'best')\n",
    "plt.show()"
   ]
  },
  {
   "cell_type": "markdown",
   "metadata": {},
   "source": [
    "3. 霍尔-肯纳德（Hoerl-Kennad）公式  "
   ]
  },
  {
   "cell_type": "code",
   "execution_count": 15,
   "metadata": {},
   "outputs": [
    {
     "name": "stdout",
     "output_type": "stream",
     "text": [
      "岭参数 k_HK:  0.0026754711436488164\n",
      "对应的岭估计:  [ 0.4512857   0.76968807  0.68446324 -0.21229962]\n"
     ]
    }
   ],
   "source": [
    "SSE = sum((Y_std - Y_std_hat) ** 2)\n",
    "sigma2 = SSE / (n - p - 1)\n",
    "\n",
    "Z = X_std1 @ V.T\n",
    "alpha_hat = np.linalg.inv(W_diag) @ Z.T @ Y_std\n",
    "# print(alpha_hat)\n",
    "\n",
    "k_HK = sigma2 / max(alpha_hat**2)\n",
    "k5 = k_HK\n",
    "print('岭参数 k_HK: ', k5)\n",
    "coef_5 = np.linalg.inv(X_std1.T @ X_std1 + k5 * np.eye(p)) @ X_std1.T @ Y_std\n",
    "print('对应的岭估计: ', coef_5)\n"
   ]
  },
  {
   "cell_type": "markdown",
   "metadata": {},
   "source": [
    "4. Mcdorard-Garaneau 公式  \n",
    "如果 $Q=||\\hat{\\beta}||^2-\\hat{\\sigma}^2\\sum_{j=1}^p\\lambda_j^{-1} \\leq 0$，则认为 $\\hat{\\beta}$ 的各个分量都差不多，此时，对 $\\hat{\\beta}$ 不进行压缩，选择 $k = 0$"
   ]
  },
  {
   "cell_type": "code",
   "execution_count": 16,
   "metadata": {},
   "outputs": [
    {
     "name": "stdout",
     "output_type": "stream",
     "text": [
      "Q:  1.337631650714247\n",
      "岭参数为:  4.5399929762484854e-05\n",
      "对应的岭估计:  [ 0.45334777  0.76428877  0.78521579 -0.3127196 ]\n"
     ]
    }
   ],
   "source": [
    "thres_diff = 0.2\n",
    "beta_compress = beta_std_hat1.T @ beta_std_hat1 - sigma2 * sum(1/W)\n",
    "if beta_compress <= 0:\n",
    "    k6 = 0\n",
    "    print('k = 0, 不对最小二乘估计进行压缩.')\n",
    "else:\n",
    "    print('Q: ', beta_compress)\n",
    "    coefs_6 = []\n",
    "    num_lambda6 = 30\n",
    "    for k in range(num_lambda6):\n",
    "        temp6 = np.linalg.inv(X_std1.T @ X_std1 + np.exp(k-10) * np.eye(p)) @ X_std1.T @ Y_std\n",
    "        beta_k_compress = temp6.T @ temp6\n",
    "        if abs(beta_compress-beta_k_compress) < thres_diff:\n",
    "            k6 = np.exp(k-10)\n",
    "            print('岭参数为: ', k6)\n",
    "            print('对应的岭估计: ', temp6)\n",
    "            break\n",
    "coef_6 = temp6"
   ]
  },
  {
   "cell_type": "markdown",
   "metadata": {},
   "source": [
    "**Q3:**\n",
    "\n",
    "岭回归估计虽然在k<>0时是有偏估计，但它的MSE要小于最小二乘估计。尤其在数据具有多重共线性时，选择合适的岭参数可以让估计结果更接近原始的参数。"
   ]
  },
  {
   "cell_type": "code",
   "execution_count": 17,
   "metadata": {
    "scrolled": true
   },
   "outputs": [
    {
     "name": "stdout",
     "output_type": "stream",
     "text": [
      "岭参数 k =  0.1\n",
      "原始的最小二乘估计 =  [ 2.98037623  3.98795702 11.75164845 -2.2088513 ]\n",
      "标准化后的最小二乘估计 =  [ 0.45338505  0.76416227  0.78738122 -0.31487934]\n",
      "\n",
      "\n",
      "原始 beta =  [3 4 5 1]\n",
      "岭估计 =  [0.39521196 0.71654002 0.30808004 0.15082594]\n",
      "还原岭估计 =  [2.59796903 3.73942931 4.59808825 1.05803093]\n"
     ]
    }
   ],
   "source": [
    "beta_rr = coef_cv\n",
    "print('岭参数 k = ', k_cv)\n",
    "print('原始的最小二乘估计 = ', beta_hat[1:p+1])\n",
    "print('标准化后的最小二乘估计 = ', beta_std_hat1)\n",
    "print('\\n')\n",
    "print('原始 beta = ', beta[1:p+1])\n",
    "print('岭估计 = ', beta_rr)\n",
    "print('还原岭估计 = ', beta_rr *  np.sqrt(Y_L) / np.sqrt(X_L))\n"
   ]
  },
  {
   "cell_type": "markdown",
   "metadata": {},
   "source": [
    "由此可知, 岭参数取值为 0.1 左右时，还原后的岭估计接近原始（上帝视角下）的 $\\beta$."
   ]
  }
 ],
 "metadata": {
  "kernelspec": {
   "display_name": "Python 3",
   "language": "python",
   "name": "python3"
  },
  "language_info": {
   "codemirror_mode": {
    "name": "ipython",
    "version": 3
   },
   "file_extension": ".py",
   "mimetype": "text/x-python",
   "name": "python",
   "nbconvert_exporter": "python",
   "pygments_lexer": "ipython3",
   "version": "3.6.8"
  }
 },
 "nbformat": 4,
 "nbformat_minor": 5
}
