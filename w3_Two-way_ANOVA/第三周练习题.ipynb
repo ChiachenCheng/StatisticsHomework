{
 "cells": [
  {
   "cell_type": "markdown",
   "metadata": {},
   "source": [
    "# Week3 Two-way ANOVA\n",
    "## 背景描述\n",
    "实验研究了操作温度和三种面板玻璃材料对示波器管输出光的影响。\n",
    "这是一个压力（因子A）水平数 $a=3$，温度（因子B）水平数 $b=3$ 和重复次数 $n=3$ 的双因子实验。"
   ]
  },
  {
   "cell_type": "markdown",
   "metadata": {},
   "source": [
    "## 数据描述\n",
    "| 变量名 | 变量含义 | 变量类型 | 变量取值范围 |\n",
    "| :----------: | :--------: | :----------: | :----------: |\n",
    "| （自变量）Glass_Type | 玻璃材料类型 | categorical variable | [1，2，3] |\n",
    "| （自变量）Temperature |   温度   | continuous variable | [100, 125, 150] |\n",
    "| （因变量）Light_Output | 输出光 | continuous variable | Real |"
   ]
  },
  {
   "cell_type": "markdown",
   "metadata": {},
   "source": [
    "## 问题 \n",
    "注：这里使用 $\\alpha$=0.05 的显著性水平\n",
    "\n",
    "1. 试判断玻璃类型和温度对输出光是否有显著影响.\n",
    "2. 用适合的残差图来检验设定模型的恰当性.\n",
    "3. 选出一种玻璃类型，使得不论温度高低都能使示波器管的输出光较高.\n",
    "4. 估计参数$\\mu$、$\\tau_i$、$\\beta_j$和$(\\tau\\beta)_{ij}\\quad(i=1,...,a;j=1,...,b)$\n",
    "5. 如何对这种示波器管的输出光进行预测？"
   ]
  },
  {
   "cell_type": "markdown",
   "metadata": {},
   "source": [
    "## 解决方案\n",
    "**Q1:**  \n",
    "检验行处理效应的等式假设:  $H_{01}:\\tau_1=\\tau_2=\\cdots=\\tau_a=0$  vs  $H_{11}:\\tau_i \\neq 0, \\exists i$  \n",
    "检验列处理效应的等式假设:  $H_{02}:\\beta_1=\\beta_2=\\cdots=\\beta_b=0$  vs  $H_{12}:\\beta_j \\neq 0, \\exists j$  \n",
    "检验行与列处理没有交互作用假设:  $H_{03}:(\\tau\\beta)_{ij}=0, \\forall i,j$  vs  $H_{13}:(\\tau\\beta)_{ij} \\neq 0, \\exists i,j$  \n",
    "利用python进行分析的具体分析结果如下："
   ]
  },
  {
   "cell_type": "code",
   "execution_count": 1,
   "metadata": {},
   "outputs": [
    {
     "name": "stdout",
     "output_type": "stream",
     "text": [
      "   Glass_Type  Temperature  Light_Output\n",
      "0           1          100           580\n",
      "1           1          100           568\n",
      "2           1          100           570\n",
      "3           2          100           550\n",
      "4           2          100           530\n",
      "\n",
      "双因素方差分析表：\n",
      "                                 df        sum_sq        mean_sq            F  \\\n",
      "C(Glass_Type)                  2.0  1.508645e+05   75432.259259   206.370554   \n",
      "C(Temperature)                 2.0  1.970335e+06  985167.259259  2695.259499   \n",
      "C(Glass_Type):C(Temperature)   4.0  2.905517e+05   72637.925926   198.725707   \n",
      "Residual                      18.0  6.579333e+03     365.518519          NaN   \n",
      "\n",
      "                                    PR(>F)  \n",
      "C(Glass_Type)                 3.886026e-13  \n",
      "C(Temperature)                5.008957e-23  \n",
      "C(Glass_Type):C(Temperature)  1.254188e-14  \n",
      "Residual                               NaN  \n",
      "\n",
      "For Glass_Type:Temperature, p-value: 0.000000 < 0.05, reject H03.\n",
      "\n",
      "For Glass_Type, p-value: 0.000000 < 0.05, reject H01.\n",
      "\n",
      "For Temperature, p-value: 0.000000 < 0.05, reject H02.\n"
     ]
    }
   ],
   "source": [
    "# Import standard packages\n",
    "import numpy as np\n",
    "import pandas as pd\n",
    "import scipy.stats as stats\n",
    "import matplotlib.pyplot as plt\n",
    "import math\n",
    "\n",
    "# Import additional packages\n",
    "from statsmodels.formula.api import ols\n",
    "from statsmodels.stats.anova import anova_lm\n",
    "from statsmodels.stats.multicomp import (pairwise_tukeyhsd, MultiComparison)\n",
    "\n",
    "alpha = 0.05\n",
    "a = 3\n",
    "b = 3\n",
    "n = 3\n",
    "\n",
    "x = pd.read_csv('Project3.csv')\n",
    "data = x.values\n",
    "df = pd.DataFrame(data, columns = ['Glass_Type', 'Temperature', 'Light_Output'])\n",
    "print(df.head())\n",
    "\n",
    "# Do the two-way ANOVA\n",
    "model = ols('Light_Output~ C(Glass_Type) + C(Temperature) + C(Glass_Type):C(Temperature)',df).fit()\n",
    "anova_results = anova_lm(model)\n",
    "print('\\n双因素方差分析表：\\n', anova_results)\n",
    "\n",
    "if anova_results['PR(>F)'][2] < alpha:\n",
    "    print('\\nFor Glass_Type:Temperature, p-value: %f < 0.05, reject H03.'% anova_results['PR(>F)'][2])\n",
    "else:\n",
    "    print('\\nFor material:Temperature, accept H03.')\n",
    "\n",
    "if anova_results['PR(>F)'][0] < alpha:\n",
    "    print('\\nFor Glass_Type, p-value: %f < 0.05, reject H01.'% anova_results['PR(>F)'][0])\n",
    "else:\n",
    "    print('\\nFor Glass_Type, accept H01.')\n",
    "\n",
    "if anova_results['PR(>F)'][1] < alpha:\n",
    "    print('\\nFor Temperature, p-value: %f < 0.05, reject H02.'% anova_results['PR(>F)'][1])\n",
    "else:\n",
    "    print('\\nFor Temperature, accept H02.')"
   ]
  },
  {
   "cell_type": "markdown",
   "metadata": {},
   "source": [
    "由上面的方差分析表可知，在$\\alpha=0.05$的水平下：  \n",
    "对玻璃材料类型来说，$p=0.0000<0.05$，所以玻璃材料类型对输出光有显著影响；  \n",
    "对温度来说，$p=0.0000<0.05$，所以温度对输出光也具有显著影响；  \n",
    "对玻璃材料类型和温度的交互因素来说，$p=0.0000<0.05$，所以交互因素对输出光也具有显著影响."
   ]
  },
  {
   "cell_type": "markdown",
   "metadata": {},
   "source": [
    "【多重比较】在双因子析因设计实验中，如果交互作用是显著的，一个因子（例如，因子 A）的均值间的比较可能由于交互作用而模糊不清。解决这类问题的方法是：将另一个因子（因子 B）固定在一特定水平上，在此水平上对因子 A 的均值使用 Tukey 检验法。  \n",
    "由上面方差分析表可知，行均值、列均值和交互项均有显著性差异，所以下面我们进一步固定温度水平为 70℉，对 3 种材料进行多重比较，以Tukey的Honestly Significant Difference(HSD)检验法为例: "
   ]
  },
  {
   "cell_type": "code",
   "execution_count": 2,
   "metadata": {},
   "outputs": [
    {
     "name": "stdout",
     "output_type": "stream",
     "text": [
      "固定温度水平为 125℉: 三种玻璃材料之间的多重比较: \n",
      "  Multiple Comparison of Means - Tukey HSD, FWER=0.05  \n",
      "======================================================\n",
      "group1 group2 meandiff p-adj    lower    upper  reject\n",
      "------------------------------------------------------\n",
      "     1      2 -52.3333 0.0523 -105.2908  0.6241  False\n",
      "     1      3 -32.6667  0.221  -85.6241 20.2908  False\n",
      "     2      3  19.6667 0.5285  -33.2908 72.6241  False\n",
      "------------------------------------------------------\n",
      "\n",
      "\n"
     ]
    },
    {
     "name": "stderr",
     "output_type": "stream",
     "text": [
      "/Library/Frameworks/Python.framework/Versions/3.6/lib/python3.6/site-packages/statsmodels/sandbox/stats/multicomp.py:775: UserWarning: FixedFormatter should only be used together with FixedLocator\n",
      "  ax1.set_yticklabels(np.insert(self.groupsunique.astype(str), 0, ''))\n"
     ]
    },
    {
     "data": {
      "image/png": "[encoded data removed]",
      "text/plain": [
       "<Figure size 720x432 with 1 Axes>"
      ]
     },
     "metadata": {
      "needs_background": "light"
     },
     "output_type": "display_data"
    }
   ],
   "source": [
    "# 使用Tukey HSD 检验法进行多重比较\n",
    "multiComp = MultiComparison(df.loc[df['Temperature'] == 125, 'Light_Output'], df.loc[df['Temperature'] == 125, 'Glass_Type'])\n",
    "tukey = multiComp.tukeyhsd()\n",
    "print('固定温度水平为 125℉: 三种玻璃材料之间的多重比较: \\n', tukey)\n",
    "\n",
    "tukey.plot_simultaneous(ylabel= 'Glass_Type', xlabel= 'Score Difference')\n",
    "print('\\n')"
   ]
  },
  {
   "cell_type": "markdown",
   "metadata": {},
   "source": [
    "结果说明：  \n",
    "这一分析表明，当温度水平为 125℉ 时，材料类型 1 与类型 3 ，材料类型 2 与类型 3 的输出光差异不显著，但材料类型 1 与类型 2 的输出光具有显著差异。"
   ]
  },
  {
   "cell_type": "markdown",
   "metadata": {},
   "source": [
    "**Q2:**  \n",
    "检验设定模型的恰当性：  \n",
    "**残差分析0: 计算电池寿命数据的残差**"
   ]
  },
  {
   "cell_type": "code",
   "execution_count": 3,
   "metadata": {},
   "outputs": [
    {
     "name": "stdout",
     "output_type": "stream",
     "text": [
      "    Glass_Type  Temperature  Light_Output\n",
      "0          1.0        100.0      7.333333\n",
      "1          1.0        100.0     -4.666667\n",
      "2          1.0        100.0     -2.666667\n",
      "3          2.0        100.0     -3.000000\n",
      "4          2.0        100.0    -23.000000\n",
      "5          2.0        100.0     26.000000\n",
      "6          3.0        100.0    -27.333333\n",
      "7          3.0        100.0      1.666667\n",
      "8          3.0        100.0     25.666667\n",
      "9          1.0        125.0      2.666667\n",
      "10         1.0        125.0     -0.333333\n",
      "11         1.0        125.0     -2.333333\n",
      "12         2.0        125.0     35.000000\n",
      "13         2.0        125.0      0.000000\n",
      "14         2.0        125.0    -35.000000\n",
      "15         3.0        125.0     -9.666667\n",
      "16         3.0        125.0     -1.666667\n",
      "17         3.0        125.0     11.333333\n",
      "18         1.0        150.0      6.000000\n",
      "19         1.0        150.0     -6.000000\n",
      "20         1.0        150.0      0.000000\n",
      "21         2.0        150.0     15.000000\n",
      "22         2.0        150.0     -1.000000\n",
      "23         2.0        150.0    -14.000000\n",
      "24         3.0        150.0    -19.666667\n",
      "25         3.0        150.0     17.333333\n",
      "26         3.0        150.0      2.333333\n"
     ]
    }
   ],
   "source": [
    "# 计算电池寿命数据的残差\n",
    "list_temp = [100, 125, 150]\n",
    "data_res = data.astype(float)\n",
    "for i in range(a):\n",
    "    for j in list_temp:\n",
    "        cnt = data[(data[:,0] == i + 1) & (data[:,1] == j),2]\n",
    "        data_res[(data_res[:,0] == i + 1) & (data_res[:,1] == j),2] = cnt-np.mean(cnt)\n",
    "df = pd.DataFrame(data_res, columns = ['Glass_Type', 'Temperature', 'Light_Output'])\n",
    "print(df)"
   ]
  },
  {
   "cell_type": "markdown",
   "metadata": {},
   "source": [
    "**残差分析1: 残差的正态概率图** "
   ]
  },
  {
   "cell_type": "code",
   "execution_count": 4,
   "metadata": {},
   "outputs": [
    {
     "data": {
      "image/png": "[encoded data removed]",
      "text/plain": [
       "<Figure size 432x288 with 1 Axes>"
      ]
     },
     "metadata": {
      "needs_background": "light"
     },
     "output_type": "display_data"
    }
   ],
   "source": [
    "# 残差的正态概率图\n",
    "res = data_res[:, 2]\n",
    "osm, osr = stats.probplot(res, dist = 'norm', plot = plt)\n",
    "x = osm[0][0]\n",
    "y = osm[1][0]\n",
    "plt.text(x, y, '%.2f' % float(y), ha='center', va= 'bottom', fontsize=9)\n",
    "plt.grid()\n",
    "plt.show()"
   ]
  },
  {
   "cell_type": "markdown",
   "metadata": {},
   "source": [
    "无特别的证据说明违背数据正态性；\n",
    "异常值的检测：\n",
    "$\\frac{-35.000}{\\sqrt{365.518}}=-1.83>-2$\n",
    "不存在绝对值大于 2 的残差，判断不存在异常值。  \n",
    "  \n",
    "(计算标准化残差：$d_{ij} = \\frac{e_{ij}}{\\sqrt{MS_E}}$。一般地，标准化残差约 68% 落在 ±1 之内，约 95% 落在 ±2 之内，几乎全部落在 ±3 之内。标准化残差的绝对值大于3的残差是一个可能的异常值。)"
   ]
  },
  {
   "cell_type": "code",
   "execution_count": 5,
   "metadata": {},
   "outputs": [
    {
     "name": "stdout",
     "output_type": "stream",
     "text": [
      "0.97\n",
      "0.52\n",
      "\n",
      "Accept the null hypothesis.\n"
     ]
    }
   ],
   "source": [
    "# 用Shapiro-Wilk检验进行正态性检验\n",
    "SW, pVal = stats.shapiro(res)\n",
    "print(round(SW, 2))\n",
    "print(round(pVal, 2))\n",
    "\n",
    "if pVal > alpha:\n",
    "    print('\\nAccept the null hypothesis.')\n",
    "else:\n",
    "    print('\\nSince p-value > 0.05, reject the null hypothesis') "
   ]
  },
  {
   "cell_type": "markdown",
   "metadata": {},
   "source": [
    "以上结果说明接受原假设，即残差具有正态性。"
   ]
  },
  {
   "cell_type": "markdown",
   "metadata": {},
   "source": [
    "**残差分析2: 残差与预测值的关系图**  "
   ]
  },
  {
   "cell_type": "code",
   "execution_count": 6,
   "metadata": {},
   "outputs": [
    {
     "data": {
      "text/plain": [
       "Text(0, 0.5, 'e_ijk')"
      ]
     },
     "execution_count": 6,
     "metadata": {},
     "output_type": "execute_result"
    },
    {
     "data": {
      "image/png": "[encoded data removed]",
      "text/plain": [
       "<Figure size 432x288 with 1 Axes>"
      ]
     },
     "metadata": {
      "needs_background": "light"
     },
     "output_type": "display_data"
    }
   ],
   "source": [
    "# 残差与预测值的关系图\n",
    "y2 = []\n",
    "for i in range(a):\n",
    "    for j in list_temp:\n",
    "        for k in range(n):\n",
    "            y2.append(np.mean(data[(data[:,0] == i + 1) & (data[:,1] == j), 2]))\n",
    "plt.scatter(y2, res, c = 'red')\n",
    "plt.text(y2[12], res[12], '%.2f' % float(res[12]), ha='center', va= 'bottom', fontsize=9)\n",
    "plt.text(y2[12], res[14], '%.2f' % float(res[14]), ha='center', va= 'bottom', fontsize=9)\n",
    "plt.title('Plot of residuals versus y_ijk')\n",
    "plt.xlabel('y_ijk')\n",
    "plt.ylabel('e_ijk')"
   ]
  },
  {
   "cell_type": "markdown",
   "metadata": {},
   "source": [
    "由上图可以看出，当输出光很小时，残差方差同样较小。但当输出光增大时，残差方差不一定随之同样增大，而是在略大于1000的位置达到最大值。"
   ]
  },
  {
   "cell_type": "markdown",
   "metadata": {},
   "source": [
    "**残差分析3：残差与材料的关系图**  "
   ]
  },
  {
   "cell_type": "code",
   "execution_count": 7,
   "metadata": {},
   "outputs": [
    {
     "data": {
      "text/plain": [
       "Text(0, 0.5, 'e_ijk')"
      ]
     },
     "execution_count": 7,
     "metadata": {},
     "output_type": "execute_result"
    },
    {
     "data": {
      "image/png": "[encoded data removed]",
      "text/plain": [
       "<Figure size 432x288 with 1 Axes>"
      ]
     },
     "metadata": {
      "needs_background": "light"
     },
     "output_type": "display_data"
    }
   ],
   "source": [
    "# 残差对材料种类的关系图\n",
    "y3 = data_res[:,0]\n",
    "plt.scatter(y3, res, c = 'red')\n",
    "plt.title('Plot of residuals versus glass type')\n",
    "plt.xlabel('Glass type')\n",
    "plt.ylabel('e_ijk')"
   ]
  },
  {
   "cell_type": "markdown",
   "metadata": {},
   "source": [
    "上图显示出方差较为明显的不等性：玻璃材料为第一种时，方差远小于另外两种。另外玻璃材料二的方差略大于玻璃材料三的方差。"
   ]
  },
  {
   "cell_type": "markdown",
   "metadata": {},
   "source": [
    "**残差分析4：残差与温度的关系图**  "
   ]
  },
  {
   "cell_type": "code",
   "execution_count": 8,
   "metadata": {},
   "outputs": [
    {
     "data": {
      "text/plain": [
       "Text(0, 0.5, 'e_ijk')"
      ]
     },
     "execution_count": 8,
     "metadata": {},
     "output_type": "execute_result"
    },
    {
     "data": {
      "image/png": "[encoded data removed]",
      "text/plain": [
       "<Figure size 432x288 with 1 Axes>"
      ]
     },
     "metadata": {
      "needs_background": "light"
     },
     "output_type": "display_data"
    }
   ],
   "source": [
    "# 残差对温度的关系图\n",
    "y4 = data_res[:,1]\n",
    "plt.scatter(y4, res, c = 'red')\n",
    "plt.title('Plot of residuals versus temperature')\n",
    "plt.xlabel('Temperature (°F)')\n",
    "plt.ylabel('e_ijk')"
   ]
  },
  {
   "cell_type": "markdown",
   "metadata": {},
   "source": [
    "上图显示出方差微弱的不等性：温度为 125℉ 时，比其他情况下方差大。\n",
    "\n",
    "在 125℉ 的温度-玻璃材料类型2 这一单元中，包含了两个极端残差值（-35.00 与 35.00）。这两个残差值对于后面三张图检验出的方差不等起了主要作用。在实际生产的过程中，需要重新审查这些数据，如并未显出任何明显的问题，比如记录错误等，则应把所有响应作为真实数据接收下来。本题目中认为所有数据均为真实数据。"
   ]
  },
  {
   "cell_type": "markdown",
   "metadata": {},
   "source": [
    "**Q3:**  \n",
    "为了选出一种材料，使得不论温度高低与否都能使电池有较长的寿命，我们进行固定效应模型分析。"
   ]
  },
  {
   "cell_type": "code",
   "execution_count": 9,
   "metadata": {},
   "outputs": [
    {
     "name": "stdout",
     "output_type": "stream",
     "text": [
      "   Glass_Type  Temperature  Light_Output\n",
      "0         1.0        100.0    572.666667\n",
      "1         1.0        100.0    572.666667\n",
      "2         1.0        100.0    572.666667\n",
      "3         2.0        100.0    553.000000\n",
      "4         2.0        100.0    553.000000\n"
     ]
    },
    {
     "data": {
      "text/plain": [
       "<matplotlib.legend.Legend at 0x7f8861f05898>"
      ]
     },
     "execution_count": 9,
     "metadata": {},
     "output_type": "execute_result"
    },
    {
     "data": {
      "image/png": "[encoded data removed]",
      "text/plain": [
       "<Figure size 432x288 with 1 Axes>"
      ]
     },
     "metadata": {
      "needs_background": "light"
     },
     "output_type": "display_data"
    }
   ],
   "source": [
    "# 固定效应模型分析\n",
    "data_avg = data.astype(float) * 1\n",
    "for i in range(a):\n",
    "    for j in list_temp:\n",
    "        cnt = data[(data[:,0] == i + 1) & (data[:,1] == j),2]\n",
    "        data_avg[(data_avg[:,0] == i + 1) & (data_avg[:,1] == j),2] = np.mean(cnt)\n",
    "df = pd.DataFrame(data_avg, columns = ['Glass_Type', 'Temperature', 'Light_Output'])\n",
    "print(df.head())\n",
    "\n",
    "type1 = data_avg[[0,9,18], 2]\n",
    "type2 = data_avg[[3,12,21], 2]\n",
    "type3 = data_avg[[6,15,24], 2]\n",
    "c1 = pd.Series(type1, index = list_temp, name = 'type1')\n",
    "c2 = pd.Series(type2, index = list_temp, name = 'type2')\n",
    "c3 = pd.Series(type3, index = list_temp, name = 'type3')\n",
    "df = pd.concat([c1, c2, c3], axis = 1)\n",
    "\n",
    "plt.plot(df.iloc[:,0], color = 'red', marker = 'o', label = 'type1')\n",
    "plt.plot(df.iloc[:,1], color = 'green', marker = 'o', label = 'type2')\n",
    "plt.plot(df.iloc[:,2], marker = 'o', label = 'type3')\n",
    "plt.title('glass type–temperature plot')\n",
    "plt.xlabel('Temperature (°F)')\n",
    "plt.ylabel('Average Light_Output')\n",
    "plt.legend(['type1', 'type2', 'type3'])"
   ]
  },
  {
   "cell_type": "markdown",
   "metadata": {},
   "source": [
    "上图绘制了每一种处理组合的平均响应图，因为线段2和3不平行，所以交互作用显著。一般来说，不管是什么玻璃材料，在低温处的输出光都较低。随着温度升高，材料1和2的输出光随之增加。但当温度增加到150度时，输出光反而下降。总体上来看材料1的输出光无论在所有的温度下的输出光都是最高的。因此如果我们希望使输出光尽量高，玻璃材料类型 1 给出了最好的结果。 "
   ]
  },
  {
   "cell_type": "markdown",
   "metadata": {},
   "source": [
    "**Q4:**  \n",
    "估计参数$\\mu$、$\\tau_i$、$\\beta_j$和$(\\tau\\beta)_{ij}\\quad(i=1,...,a;j=1,...,b)$  \n",
    "$\\hat{\\mu}=\\bar{y}_{\\cdots}$  \n",
    "$\\hat{\\tau_i}=\\bar{y}_{i\\cdot\\cdot}-\\bar{y}_{\\cdots},\\quad i = 1,2,\\cdots,a$  \n",
    "$\\hat{\\beta_j}=\\bar{y}_{\\cdot j\\cdot}-\\bar{y}_{\\cdots},\\quad j = 1,2,\\cdots,b$  \n",
    "$\\hat{\\tau\\beta}_{ij}=\\bar{y}_{ij\\cdot}-\\bar{y}_{i\\cdot\\cdot}-\\bar{y}_{\\cdot j\\cdot}+\\bar{y}_{\\cdots},\\quad i = 1,2,\\cdots,a\\quad j = 1,2,\\cdots,b$"
   ]
  },
  {
   "cell_type": "code",
   "execution_count": 10,
   "metadata": {},
   "outputs": [
    {
     "name": "stdout",
     "output_type": "stream",
     "text": [
      "总平均效应： 940.19\n",
      "材料因子的水平效应：\n",
      " [  75.15   26.81 -101.96]\n",
      "温度因子的水平效应：\n",
      " [-373.85  118.81  255.04]\n",
      "两因子之间的交互作用效应：\n",
      " [[1811.56 1318.89 1182.67]\n",
      " [2374.56 1881.89 1745.67]\n",
      " [2802.   2309.33 2173.11]]\n"
     ]
    }
   ],
   "source": [
    "# 参数估计\n",
    "mu = np.mean(data[:,2])\n",
    "print('总平均效应：', round(mu, 2))\n",
    "\n",
    "tau = []\n",
    "for i in range(a):\n",
    "    tau.append(np.mean(data[data[:,0] == i + 1, 2]) - mu)\n",
    "print('材料因子的水平效应：\\n', np.round(tau, 2))\n",
    "\n",
    "beta = []\n",
    "for j in list_temp:\n",
    "    beta.append(np.mean(data[data[:,1] == j, 2]) - mu)\n",
    "print('温度因子的水平效应：\\n', np.round(beta, 2))\n",
    "\n",
    "tau_beta = []\n",
    "k = 0\n",
    "for i in range(a):\n",
    "    tau_beta.append([])\n",
    "    for j in range(b):\n",
    "        cnt = data_avg[0 + 3 * k, 2] - tau[i] - beta[j] + mu\n",
    "        tau_beta[i].append(cnt)\n",
    "    k += 3\n",
    "print('两因子之间的交互作用效应：\\n', np.round(tau_beta, 2))"
   ]
  },
  {
   "cell_type": "markdown",
   "metadata": {},
   "source": [
    "**Q5:**  \n",
    "由于温度是定量的，而材料类型是定性的。再者，温度有 3 个水平。因此，我们可计算线性的和二次的温度效应，以便研究温度怎样影响电池寿命。  \n",
    "这里我们画出响应曲线（response curve）可以得到响应变量与定量因子——温度的关系。一般地，线性回归方法可用于为实验数据拟合相应的模型。  \n",
    "$Life = \\beta_0+\\beta_1A+\\beta_2B_1+\\beta_3B_2+\\beta_4A^2+\\beta_5AB_1+\\beta_6AB_2+\\beta_7A^2B_1+\\beta_8A^2B_2$  \n",
    "其中，分量 $A, A^2$ 分别表示温度因子的一次效应、二次效应，$B$ 表示材料类型因子的主效应。由于温度为低、中、高水平(15℉， 70℉ ， 125℉ )，对应的温度水平分别为 $A=-1，0，+1$。变量 $B[1]$ 和 $B[2]$ 被认为是示性变量（indicator variable），其定义为:  \n",
    "\n",
    "|  | 1 | 2 | 3 |  \n",
    "| :--------: | :--------: | :--------: | :---------: |  \n",
    "| $B[1]$ |   1   |   0   |   -1   |  \n",
    "| $B[2]$ |   0   |   1   |   -1   |"
   ]
  },
  {
   "cell_type": "code",
   "execution_count": 11,
   "metadata": {},
   "outputs": [
    {
     "name": "stdout",
     "output_type": "stream",
     "text": [
      "     A  B1  B2     AA  AB1  AB2   AAB1   AAB2  Life\n",
      "0  100   1   0  10000  100    0  10000      0   580\n",
      "1  100   1   0  10000  100    0  10000      0   568\n",
      "2  100   1   0  10000  100    0  10000      0   570\n",
      "3  100   0   1  10000    0  100      0  10000   550\n",
      "4  100   0   1  10000    0  100      0  10000   530\n"
     ]
    },
    {
     "data": {
      "text/html": [
       "<table class=\"simpletable\">\n",
       "<caption>OLS Regression Results</caption>\n",
       "<tr>\n",
       "  <th>Dep. Variable:</th>          <td>Life</td>       <th>  R-squared:         </th> <td>   0.997</td>\n",
       "</tr>\n",
       "<tr>\n",
       "  <th>Model:</th>                   <td>OLS</td>       <th>  Adj. R-squared:    </th> <td>   0.996</td>\n",
       "</tr>\n",
       "<tr>\n",
       "  <th>Method:</th>             <td>Least Squares</td>  <th>  F-statistic:       </th> <td>   824.8</td>\n",
       "</tr>\n",
       "<tr>\n",
       "  <th>Date:</th>             <td>Fri, 19 Mar 2021</td> <th>  Prob (F-statistic):</th> <td>1.78e-21</td>\n",
       "</tr>\n",
       "<tr>\n",
       "  <th>Time:</th>                 <td>21:21:01</td>     <th>  Log-Likelihood:    </th> <td> -112.51</td>\n",
       "</tr>\n",
       "<tr>\n",
       "  <th>No. Observations:</th>      <td>    27</td>      <th>  AIC:               </th> <td>   243.0</td>\n",
       "</tr>\n",
       "<tr>\n",
       "  <th>Df Residuals:</th>          <td>    18</td>      <th>  BIC:               </th> <td>   254.7</td>\n",
       "</tr>\n",
       "<tr>\n",
       "  <th>Df Model:</th>              <td>     8</td>      <th>                     </th>     <td> </td>   \n",
       "</tr>\n",
       "<tr>\n",
       "  <th>Covariance Type:</th>      <td>nonrobust</td>    <th>                     </th>     <td> </td>   \n",
       "</tr>\n",
       "</table>\n",
       "<table class=\"simpletable\">\n",
       "<tr>\n",
       "      <td></td>         <th>coef</th>     <th>std err</th>      <th>t</th>      <th>P>|t|</th>  <th>[0.025</th>    <th>0.975]</th>  \n",
       "</tr>\n",
       "<tr>\n",
       "  <th>Intercept</th> <td>-4968.7778</td> <td>  191.292</td> <td>  -25.975</td> <td> 0.000</td> <td>-5370.666</td> <td>-4566.889</td>\n",
       "</tr>\n",
       "<tr>\n",
       "  <th>A</th>         <td>   83.8667</td> <td>    3.127</td> <td>   26.818</td> <td> 0.000</td> <td>   77.297</td> <td>   90.437</td>\n",
       "</tr>\n",
       "<tr>\n",
       "  <th>B1</th>        <td> 1322.7778</td> <td>  270.527</td> <td>    4.890</td> <td> 0.000</td> <td>  754.421</td> <td> 1891.134</td>\n",
       "</tr>\n",
       "<tr>\n",
       "  <th>B2</th>        <td> 1553.7778</td> <td>  270.527</td> <td>    5.744</td> <td> 0.000</td> <td>  985.421</td> <td> 2122.134</td>\n",
       "</tr>\n",
       "<tr>\n",
       "  <th>AA</th>        <td>   -0.2852</td> <td>    0.012</td> <td>  -22.834</td> <td> 0.000</td> <td>   -0.311</td> <td>   -0.259</td>\n",
       "</tr>\n",
       "<tr>\n",
       "  <th>AB1</th>       <td>  -24.4000</td> <td>    4.423</td> <td>   -5.517</td> <td> 0.000</td> <td>  -33.692</td> <td>  -15.108</td>\n",
       "</tr>\n",
       "<tr>\n",
       "  <th>AB2</th>       <td>  -27.8667</td> <td>    4.423</td> <td>   -6.301</td> <td> 0.000</td> <td>  -37.158</td> <td>  -18.575</td>\n",
       "</tr>\n",
       "<tr>\n",
       "  <th>AAB1</th>      <td>    0.1124</td> <td>    0.018</td> <td>    6.362</td> <td> 0.000</td> <td>    0.075</td> <td>    0.149</td>\n",
       "</tr>\n",
       "<tr>\n",
       "  <th>AAB2</th>      <td>    0.1220</td> <td>    0.018</td> <td>    6.905</td> <td> 0.000</td> <td>    0.085</td> <td>    0.159</td>\n",
       "</tr>\n",
       "</table>\n",
       "<table class=\"simpletable\">\n",
       "<tr>\n",
       "  <th>Omnibus:</th>       <td> 0.570</td> <th>  Durbin-Watson:     </th> <td>   2.273</td>\n",
       "</tr>\n",
       "<tr>\n",
       "  <th>Prob(Omnibus):</th> <td> 0.752</td> <th>  Jarque-Bera (JB):  </th> <td>   0.035</td>\n",
       "</tr>\n",
       "<tr>\n",
       "  <th>Skew:</th>          <td> 0.009</td> <th>  Prob(JB):          </th> <td>   0.983</td>\n",
       "</tr>\n",
       "<tr>\n",
       "  <th>Kurtosis:</th>      <td> 3.175</td> <th>  Cond. No.          </th> <td>1.52e+06</td>\n",
       "</tr>\n",
       "</table><br/><br/>Notes:<br/>[1] Standard Errors assume that the covariance matrix of the errors is correctly specified.<br/>[2] The condition number is large, 1.52e+06. This might indicate that there are<br/>strong multicollinearity or other numerical problems."
      ],
      "text/plain": [
       "<class 'statsmodels.iolib.summary.Summary'>\n",
       "\"\"\"\n",
       "                            OLS Regression Results                            \n",
       "==============================================================================\n",
       "Dep. Variable:                   Life   R-squared:                       0.997\n",
       "Model:                            OLS   Adj. R-squared:                  0.996\n",
       "Method:                 Least Squares   F-statistic:                     824.8\n",
       "Date:                Fri, 19 Mar 2021   Prob (F-statistic):           1.78e-21\n",
       "Time:                        21:21:01   Log-Likelihood:                -112.51\n",
       "No. Observations:                  27   AIC:                             243.0\n",
       "Df Residuals:                      18   BIC:                             254.7\n",
       "Df Model:                           8                                         \n",
       "Covariance Type:            nonrobust                                         \n",
       "==============================================================================\n",
       "                 coef    std err          t      P>|t|      [0.025      0.975]\n",
       "------------------------------------------------------------------------------\n",
       "Intercept  -4968.7778    191.292    -25.975      0.000   -5370.666   -4566.889\n",
       "A             83.8667      3.127     26.818      0.000      77.297      90.437\n",
       "B1          1322.7778    270.527      4.890      0.000     754.421    1891.134\n",
       "B2          1553.7778    270.527      5.744      0.000     985.421    2122.134\n",
       "AA            -0.2852      0.012    -22.834      0.000      -0.311      -0.259\n",
       "AB1          -24.4000      4.423     -5.517      0.000     -33.692     -15.108\n",
       "AB2          -27.8667      4.423     -6.301      0.000     -37.158     -18.575\n",
       "AAB1           0.1124      0.018      6.362      0.000       0.075       0.149\n",
       "AAB2           0.1220      0.018      6.905      0.000       0.085       0.159\n",
       "==============================================================================\n",
       "Omnibus:                        0.570   Durbin-Watson:                   2.273\n",
       "Prob(Omnibus):                  0.752   Jarque-Bera (JB):                0.035\n",
       "Skew:                           0.009   Prob(JB):                        0.983\n",
       "Kurtosis:                       3.175   Cond. No.                     1.52e+06\n",
       "==============================================================================\n",
       "\n",
       "Notes:\n",
       "[1] Standard Errors assume that the covariance matrix of the errors is correctly specified.\n",
       "[2] The condition number is large, 1.52e+06. This might indicate that there are\n",
       "strong multicollinearity or other numerical problems.\n",
       "\"\"\""
      ]
     },
     "execution_count": 11,
     "metadata": {},
     "output_type": "execute_result"
    }
   ],
   "source": [
    "# 构造这 8 个变量\n",
    "list_A = [100, 125, 150]\n",
    "#list_A = [-1, 0, 1]\n",
    "list_B1 = [1, 0, -1]\n",
    "list_B2 = [0, 1, -1]\n",
    "A = data[:,1] * 1\n",
    "B1 = B2 = data[:, 0]\n",
    "for i in range(3):\n",
    "    A = [list_A[i] if j == list_temp[i] else j for j in A]\n",
    "    B1 = [list_B1[i] if j == i + 1 else j for j in B1]\n",
    "    B2 = [list_B2[i] if j == i + 1 else j for j in B2]\n",
    "AA = [A[k] ** 2 for k in range(len(A))]\n",
    "AB1 = [A[k] * B1[k] for k in range(len(A))]\n",
    "AB2 = [A[k] * B2[k] for k in range(len(A))]\n",
    "AAB1 = [AA[k] * B1[k] for k in range(len(A))]\n",
    "AAB2 = [AA[k] * B2[k] for k in range(len(A))]\n",
    "df = pd.DataFrame(A, columns = ['A'])\n",
    "df['B1'] = B1\n",
    "df['B2'] = B2\n",
    "df['AA'] = AA\n",
    "df['AB1'] = AB1\n",
    "df['AB2'] = AB2\n",
    "df['AAB1'] = AAB1\n",
    "df['AAB2'] = AAB2\n",
    "df['Life'] = data[:,2]\n",
    "print(df.head())\n",
    "\n",
    "# 训练模型\n",
    "model = ols('Life~ A + B1 + B2 + AA + AB1 + AB2 + AAB1 + AAB2',df).fit()\n",
    "param = model.params\n",
    "model.summary()"
   ]
  },
  {
   "cell_type": "markdown",
   "metadata": {},
   "source": [
    "拟合曲线[-1, 1]： \n",
    "\n",
    "$Life = 1059+314.44 *A+28.33 *B[1]-24 *B[2]-178.22 *A^2+92.22 *AB[1]+65.56 *AB[2]+70.22 *A^2B[1]+76.22 *A^2B[2]$"
   ]
  },
  {
   "cell_type": "markdown",
   "metadata": {},
   "source": [
    "拟合曲线[100, 150]： \n",
    "\n",
    "$Life = -4968.78+83.87 *A+1322.78 *B[1]+1553.78 *B[2]-0.29 *A^2-24.4 *AB[1]-27.87 *AB[2]+0.11 *A^2B[1]+0.12 *A^2B[2]$"
   ]
  },
  {
   "cell_type": "code",
   "execution_count": 12,
   "metadata": {},
   "outputs": [
    {
     "data": {
      "text/plain": [
       "<matplotlib.legend.Legend at 0x7f8861f6f940>"
      ]
     },
     "execution_count": 12,
     "metadata": {},
     "output_type": "execute_result"
    },
    {
     "data": {
      "image/png": "[encoded data removed]",
      "text/plain": [
       "<Figure size 432x288 with 1 Axes>"
      ]
     },
     "metadata": {
      "needs_background": "light"
     },
     "output_type": "display_data"
    }
   ],
   "source": [
    "# 拟合响应曲线\n",
    "temp = np.linspace(100,150)\n",
    "#temp = np.linspace(-1, 1)\n",
    "life_type1 = param[0] + param[1] * temp + param[2] * list_B1[0] + param[3] * list_B2[0] + param[4] * (temp ** 2) + param[5] * temp * list_B1[0] + param[6] * temp * list_B2[0] + param[7] * (temp ** 2) * list_B1[0] + param[8] * (temp ** 2) * list_B2[0]\n",
    "life_type2 = param[0] + param[1] * temp + param[2] * list_B1[1] + param[3] * list_B2[1] + param[4] * (temp ** 2) + param[5] * temp * list_B1[1] + param[6] * temp * list_B2[1] + param[7] * (temp ** 2) * list_B1[1] + param[8] * (temp ** 2) * list_B2[1]\n",
    "life_type3 = param[0] + param[1] * temp + param[2] * list_B1[2] + param[3] * list_B2[2] + param[4] * (temp ** 2) + param[5] * temp * list_B1[2] + param[6] * temp * list_B2[2] + param[7] * (temp ** 2) * list_B1[2] + param[8] * (temp ** 2) * list_B2[2]\n",
    "\n",
    "c1 = pd.Series(life_type1, index = temp, name = 'type1')\n",
    "c2 = pd.Series(life_type2, index = temp, name = 'type2')\n",
    "c3 = pd.Series(life_type3, index = temp, name = 'type3')\n",
    "df = pd.concat([c1, c2, c3], axis = 1)\n",
    "\n",
    "plt.plot(df.iloc[:,0], color = 'red', label = 'type1')\n",
    "plt.plot(df.iloc[:,1], color = 'green', label = 'type2')\n",
    "plt.plot(df.iloc[:,2], label = 'type3')\n",
    "plt.xlabel('Temperature (°F)')\n",
    "plt.ylabel('Light_Output')\n",
    "plt.legend(['type1', 'type2', 'type3'])"
   ]
  },
  {
   "cell_type": "markdown",
   "metadata": {},
   "source": [
    "拟合曲线[-1, 1]：\n",
    "\n",
    "材料类型为 1：\n",
    "\n",
    "$y = 1087.33 + 406.66 ∗ Temp - 108 ∗ Temp^2 $\n",
    "\n",
    "材料类型为 2：\n",
    "\n",
    "$y = 1035 + 380 ∗ Temp − 102.22 ∗ Temp^2 $\n",
    "\n",
    "材料类型为 3：\n",
    "\n",
    "$y = 1054.67 + 156.66 ∗ Temp − 324.66 ∗ Temp^2 $\n",
    "\n",
    "拟合曲线[100, 150]：\n",
    "\n",
    "材料类型为 1：\n",
    "\n",
    "$y = -3646 + 59.47 ∗ Temp - 0.18 ∗ Temp^2 $\n",
    "\n",
    "材料类型为 2：\n",
    "\n",
    "$y = -3415 + 56 ∗ Temp − 0.17 ∗ Temp^2 $\n",
    "\n",
    "材料类型为 3：\n",
    "\n",
    "$y = -7845.34 + 136.14 ∗ Temp − 0.52 ∗ Temp^2 $\n",
    "\n",
    "上图显示了这 3 个预测公式生成的响应曲线。 "
   ]
  }
 ],
 "metadata": {
  "kernelspec": {
   "display_name": "Python 3",
   "language": "python",
   "name": "python3"
  },
  "language_info": {
   "codemirror_mode": {
    "name": "ipython",
    "version": 3
   },
   "file_extension": ".py",
   "mimetype": "text/x-python",
   "name": "python",
   "nbconvert_exporter": "python",
   "pygments_lexer": "ipython3",
   "version": "3.6.8"
  }
 },
 "nbformat": 4,
 "nbformat_minor": 4
}
