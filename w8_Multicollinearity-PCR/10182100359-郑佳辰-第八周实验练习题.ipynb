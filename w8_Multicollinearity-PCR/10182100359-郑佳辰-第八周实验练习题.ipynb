{
 "cells": [
  {
   "cell_type": "markdown",
   "metadata": {},
   "source": [
    "# Week8 Multicollinearity-PCR \n",
    "## 背景描述\n",
    "\n",
    "数据集来源：Longley's(1967)\n",
    "\n",
    "我们构造了 16 个观测的 6 个自变量，具体请见下表：\n",
    "\n",
    "## 数据描述\n",
    "|    变量名    |                变量含义                |      变量类型       |  变量取值范围  |\n",
    "| :----------: | :------------------------------------: | :-----------------: | :------------: |\n",
    "| （自变量）X1 | 国民生产总值隐含价格评价指数(1954=100) | continuous variable | $\\mathbb{R}^+$ |\n",
    "| （自变量）X2 |              国民生产总值              | continuous variable | $\\mathbb{R}^+$ |\n",
    "| （自变量）X3 |                失业人数                | continuous variable | $\\mathbb{R}^+$ |\n",
    "| （自变量）X4 |             武装力量的规模             | continuous variable | $\\mathbb{R}^+$ |\n",
    "| （自变量）X5 |        14 岁及以上的非机构人口         | continuous variable | $\\mathbb{R}^+$ |\n",
    "| （自变量）X6 |              时间（年份）              | continuous variable | $\\mathbb{R}^+$ |\n",
    "| （因变量）Y  |               总就业人数               | continuous variable | $\\mathbb{R}^+$ |"
   ]
  },
  {
   "cell_type": "markdown",
   "metadata": {},
   "source": [
    "## 问题 \n",
    "注：这里使用 $\\alpha=0.05$ 的显著性水平\n",
    "\n",
    "1. 判断所给数据是否具有多重共线性.\n",
    "2. 若具有多重共线性, 选择适当的主成分.\n",
    "3. 对降维后的数据进行回归分析.\n",
    "\n",
    "\n",
    "## 解决方案"
   ]
  },
  {
   "cell_type": "markdown",
   "metadata": {},
   "source": [
    "**Q1：**  \n",
    "\n",
    "多重共线性是指自变量$x_1, x_2, ... ,x_p$之间不完全线性相关但是相关性很高的情况。此时，虽然可以得到最小二乘估计，但是精度很低。随着自变量之间相关性增加，最小二乘估计结果的方差会增大。"
   ]
  },
  {
   "cell_type": "code",
   "execution_count": 1,
   "metadata": {
    "scrolled": false
   },
   "outputs": [
    {
     "name": "stdout",
     "output_type": "stream",
     "text": [
      "     0      1         2       3       4         5       6        7\n",
      "0  1.0  830.0  234289.0  2356.0  1590.0  107608.0  1947.0  60323.0\n",
      "1  1.0  885.0  259426.0  2325.0  1456.0  108632.0  1948.0  61122.0\n",
      "2  1.0  882.0  258054.0  3682.0  1616.0  109773.0  1949.0  60171.0\n",
      "3  1.0  895.0  284599.0  3351.0  1650.0  110929.0  1950.0  61187.0\n",
      "4  1.0  962.0  328975.0  2099.0  3099.0  112075.0  1951.0  63221.0\n"
     ]
    }
   ],
   "source": [
    "# Import standard packages\n",
    "import numpy as np\n",
    "import pandas as pd\n",
    "import scipy.stats as stats\n",
    "import matplotlib.pyplot as plt\n",
    "import math\n",
    "\n",
    "# Import additional packages\n",
    "from itertools import combinations\n",
    "import statsmodels.api as sm\n",
    "from statsmodels.stats.outliers_influence import variance_inflation_factor\n",
    "from sklearn.decomposition import PCA  # 进行主成分分析\n",
    "\n",
    "alpha = 0.05\n",
    "p = 6\n",
    "n = 16\n",
    "\n",
    "x = pd.read_csv('Project8.csv')\n",
    "x.insert(0, 'intercept', np.ones(len(x))) \n",
    "data = x.values * 1.0\n",
    "df = pd.DataFrame(data)\n",
    "print(df.head())\n",
    "\n",
    "# 对数据进行分割\n",
    "X = data[:,0:p+1]\n",
    "Y = data[:,-1]"
   ]
  },
  {
   "cell_type": "code",
   "execution_count": 2,
   "metadata": {},
   "outputs": [
    {
     "name": "stderr",
     "output_type": "stream",
     "text": [
      "/Library/Frameworks/Python.framework/Versions/3.6/lib/python3.6/site-packages/scipy/stats/stats.py:1604: UserWarning: kurtosistest only valid for n>=20 ... continuing anyway, n=16\n",
      "  \"anyway, n=%i\" % int(n))\n"
     ]
    },
    {
     "data": {
      "text/html": [
       "<table class=\"simpletable\">\n",
       "<caption>OLS Regression Results</caption>\n",
       "<tr>\n",
       "  <th>Dep. Variable:</th>            <td>y</td>        <th>  R-squared:         </th> <td>   0.995</td>\n",
       "</tr>\n",
       "<tr>\n",
       "  <th>Model:</th>                   <td>OLS</td>       <th>  Adj. R-squared:    </th> <td>   0.992</td>\n",
       "</tr>\n",
       "<tr>\n",
       "  <th>Method:</th>             <td>Least Squares</td>  <th>  F-statistic:       </th> <td>   330.3</td>\n",
       "</tr>\n",
       "<tr>\n",
       "  <th>Date:</th>             <td>Tue, 20 Apr 2021</td> <th>  Prob (F-statistic):</th> <td>4.98e-10</td>\n",
       "</tr>\n",
       "<tr>\n",
       "  <th>Time:</th>                 <td>22:19:01</td>     <th>  Log-Likelihood:    </th> <td> -109.62</td>\n",
       "</tr>\n",
       "<tr>\n",
       "  <th>No. Observations:</th>      <td>    16</td>      <th>  AIC:               </th> <td>   233.2</td>\n",
       "</tr>\n",
       "<tr>\n",
       "  <th>Df Residuals:</th>          <td>     9</td>      <th>  BIC:               </th> <td>   238.6</td>\n",
       "</tr>\n",
       "<tr>\n",
       "  <th>Df Model:</th>              <td>     6</td>      <th>                     </th>     <td> </td>   \n",
       "</tr>\n",
       "<tr>\n",
       "  <th>Covariance Type:</th>      <td>nonrobust</td>    <th>                     </th>     <td> </td>   \n",
       "</tr>\n",
       "</table>\n",
       "<table class=\"simpletable\">\n",
       "<tr>\n",
       "    <td></td>       <th>coef</th>     <th>std err</th>      <th>t</th>      <th>P>|t|</th>  <th>[0.025</th>    <th>0.975]</th>  \n",
       "</tr>\n",
       "<tr>\n",
       "  <th>const</th> <td>-3.482e+06</td> <td>  8.9e+05</td> <td>   -3.911</td> <td> 0.004</td> <td> -5.5e+06</td> <td>-1.47e+06</td>\n",
       "</tr>\n",
       "<tr>\n",
       "  <th>x1</th>    <td>    1.5062</td> <td>    8.491</td> <td>    0.177</td> <td> 0.863</td> <td>  -17.703</td> <td>   20.715</td>\n",
       "</tr>\n",
       "<tr>\n",
       "  <th>x2</th>    <td>   -0.0358</td> <td>    0.033</td> <td>   -1.070</td> <td> 0.313</td> <td>   -0.112</td> <td>    0.040</td>\n",
       "</tr>\n",
       "<tr>\n",
       "  <th>x3</th>    <td>   -2.0202</td> <td>    0.488</td> <td>   -4.136</td> <td> 0.003</td> <td>   -3.125</td> <td>   -0.915</td>\n",
       "</tr>\n",
       "<tr>\n",
       "  <th>x4</th>    <td>   -1.0332</td> <td>    0.214</td> <td>   -4.822</td> <td> 0.001</td> <td>   -1.518</td> <td>   -0.549</td>\n",
       "</tr>\n",
       "<tr>\n",
       "  <th>x5</th>    <td>   -0.0511</td> <td>    0.226</td> <td>   -0.226</td> <td> 0.826</td> <td>   -0.563</td> <td>    0.460</td>\n",
       "</tr>\n",
       "<tr>\n",
       "  <th>x6</th>    <td> 1829.1515</td> <td>  455.478</td> <td>    4.016</td> <td> 0.003</td> <td>  798.788</td> <td> 2859.515</td>\n",
       "</tr>\n",
       "</table>\n",
       "<table class=\"simpletable\">\n",
       "<tr>\n",
       "  <th>Omnibus:</th>       <td> 0.749</td> <th>  Durbin-Watson:     </th> <td>   2.559</td>\n",
       "</tr>\n",
       "<tr>\n",
       "  <th>Prob(Omnibus):</th> <td> 0.688</td> <th>  Jarque-Bera (JB):  </th> <td>   0.684</td>\n",
       "</tr>\n",
       "<tr>\n",
       "  <th>Skew:</th>          <td> 0.420</td> <th>  Prob(JB):          </th> <td>   0.710</td>\n",
       "</tr>\n",
       "<tr>\n",
       "  <th>Kurtosis:</th>      <td> 2.434</td> <th>  Cond. No.          </th> <td>4.86e+09</td>\n",
       "</tr>\n",
       "</table><br/><br/>Notes:<br/>[1] Standard Errors assume that the covariance matrix of the errors is correctly specified.<br/>[2] The condition number is large, 4.86e+09. This might indicate that there are<br/>strong multicollinearity or other numerical problems."
      ],
      "text/plain": [
       "<class 'statsmodels.iolib.summary.Summary'>\n",
       "\"\"\"\n",
       "                            OLS Regression Results                            \n",
       "==============================================================================\n",
       "Dep. Variable:                      y   R-squared:                       0.995\n",
       "Model:                            OLS   Adj. R-squared:                  0.992\n",
       "Method:                 Least Squares   F-statistic:                     330.3\n",
       "Date:                Tue, 20 Apr 2021   Prob (F-statistic):           4.98e-10\n",
       "Time:                        22:19:01   Log-Likelihood:                -109.62\n",
       "No. Observations:                  16   AIC:                             233.2\n",
       "Df Residuals:                       9   BIC:                             238.6\n",
       "Df Model:                           6                                         \n",
       "Covariance Type:            nonrobust                                         \n",
       "==============================================================================\n",
       "                 coef    std err          t      P>|t|      [0.025      0.975]\n",
       "------------------------------------------------------------------------------\n",
       "const      -3.482e+06    8.9e+05     -3.911      0.004    -5.5e+06   -1.47e+06\n",
       "x1             1.5062      8.491      0.177      0.863     -17.703      20.715\n",
       "x2            -0.0358      0.033     -1.070      0.313      -0.112       0.040\n",
       "x3            -2.0202      0.488     -4.136      0.003      -3.125      -0.915\n",
       "x4            -1.0332      0.214     -4.822      0.001      -1.518      -0.549\n",
       "x5            -0.0511      0.226     -0.226      0.826      -0.563       0.460\n",
       "x6          1829.1515    455.478      4.016      0.003     798.788    2859.515\n",
       "==============================================================================\n",
       "Omnibus:                        0.749   Durbin-Watson:                   2.559\n",
       "Prob(Omnibus):                  0.688   Jarque-Bera (JB):                0.684\n",
       "Skew:                           0.420   Prob(JB):                        0.710\n",
       "Kurtosis:                       2.434   Cond. No.                     4.86e+09\n",
       "==============================================================================\n",
       "\n",
       "Notes:\n",
       "[1] Standard Errors assume that the covariance matrix of the errors is correctly specified.\n",
       "[2] The condition number is large, 4.86e+09. This might indicate that there are\n",
       "strong multicollinearity or other numerical problems.\n",
       "\"\"\""
      ]
     },
     "execution_count": 2,
     "metadata": {},
     "output_type": "execute_result"
    }
   ],
   "source": [
    "# Do the multiple linear regression——对原始数据\n",
    "# OLS（endog,exog=None,missing='none',hasconst=None) (endog:因变量，exog=自变量）\n",
    "model = sm.OLS(Y, X).fit()\n",
    "beta = model.params\n",
    "model.summary()"
   ]
  },
  {
   "cell_type": "markdown",
   "metadata": {},
   "source": [
    "**数据预处理：**"
   ]
  },
  {
   "cell_type": "code",
   "execution_count": 3,
   "metadata": {
    "scrolled": false
   },
   "outputs": [
    {
     "name": "stdout",
     "output_type": "stream",
     "text": [
      "      0         1         2         3         4         5         6         Y\n",
      "0   1.0 -0.446968 -0.398513 -0.231355 -0.377210 -0.364354 -0.406745 -0.367157\n",
      "1   1.0 -0.315375 -0.333214 -0.239921 -0.426926 -0.326344 -0.352512 -0.308415\n",
      "2   1.0 -0.322553 -0.336778  0.135028 -0.367563 -0.283992 -0.298279 -0.378332\n",
      "3   1.0 -0.291449 -0.267822  0.043570 -0.354949 -0.241084 -0.244047 -0.303636\n",
      "4   1.0 -0.131144 -0.152546 -0.302366  0.182657 -0.198546 -0.189814 -0.154097\n",
      "5   1.0 -0.085685 -0.105725 -0.348509  0.366311 -0.154190 -0.135582 -0.123366\n",
      "6   1.0 -0.064152 -0.057964 -0.365640  0.348873 -0.086486 -0.081349 -0.024114\n",
      "7   1.0 -0.040226 -0.063868  0.106292  0.275783 -0.044728 -0.027116 -0.114397\n",
      "8   1.0 -0.011514  0.025381 -0.079939  0.163735 -0.001336  0.027116  0.051611\n",
      "9   1.0  0.069834  0.081780 -0.102596  0.092871  0.048625  0.081349  0.186740\n",
      "10  1.0  0.160753  0.143057 -0.071097  0.070980  0.112134  0.135582  0.209678\n",
      "11  1.0  0.218175  0.147673  0.411058  0.011246  0.167998  0.189814  0.087930\n",
      "12  1.0  0.261242  0.246797  0.171224 -0.020290  0.220557  0.244047  0.245409\n",
      "13  1.0  0.299524  0.298483  0.203828 -0.034389  0.294868  0.298279  0.312238\n",
      "14  1.0  0.335413  0.338935  0.445597 -0.012870  0.387070  0.352512  0.295108\n",
      "15  1.0  0.364124  0.434325  0.224827  0.081740  0.469807  0.406745  0.384802\n"
     ]
    }
   ],
   "source": [
    "# 对数据进行标准化\n",
    "# 自变量 X 的均值\n",
    "X_mean = []\n",
    "for i in range(p):\n",
    "    X_mean.append(np.mean(X[:, i+1])) \n",
    "\n",
    "# 自变量 X 的标准差\n",
    "X_L = []\n",
    "for i in range(p):\n",
    "    X_L.append(sum((X[:, i+1] - X_mean[i]) ** 2))  \n",
    "\n",
    "# 对自变量 X 标准化(截距项不用标准化)\n",
    "X_std = X * 1.0\n",
    "X_std[:,1:p+1] = (X[:,1:p+1] - X_mean) / np.sqrt(X_L)\n",
    "\n",
    "# 对因变量 Y 标准化\n",
    "Y_std = (Y - np.mean(Y)) / np.sqrt(sum((Y - np.mean(Y))**2))\n",
    "\n",
    "df_std = pd.DataFrame(X_std)\n",
    "df_std['Y'] = Y_std\n",
    "print(df_std)"
   ]
  },
  {
   "cell_type": "markdown",
   "metadata": {},
   "source": [
    "**做多元线性回归分析:**\n",
    "\n",
    "先后对未经标准化和已标准化的数据进行回归分析，得到的$\\hat{\\beta}$分别如表所示。"
   ]
  },
  {
   "cell_type": "code",
   "execution_count": 4,
   "metadata": {},
   "outputs": [
    {
     "name": "stderr",
     "output_type": "stream",
     "text": [
      "/Library/Frameworks/Python.framework/Versions/3.6/lib/python3.6/site-packages/scipy/stats/stats.py:1604: UserWarning: kurtosistest only valid for n>=20 ... continuing anyway, n=16\n",
      "  \"anyway, n=%i\" % int(n))\n"
     ]
    },
    {
     "data": {
      "text/html": [
       "<table class=\"simpletable\">\n",
       "<caption>OLS Regression Results</caption>\n",
       "<tr>\n",
       "  <th>Dep. Variable:</th>            <td>y</td>        <th>  R-squared:         </th> <td>   0.995</td>\n",
       "</tr>\n",
       "<tr>\n",
       "  <th>Model:</th>                   <td>OLS</td>       <th>  Adj. R-squared:    </th> <td>   0.992</td>\n",
       "</tr>\n",
       "<tr>\n",
       "  <th>Method:</th>             <td>Least Squares</td>  <th>  F-statistic:       </th> <td>   330.3</td>\n",
       "</tr>\n",
       "<tr>\n",
       "  <th>Date:</th>             <td>Tue, 20 Apr 2021</td> <th>  Prob (F-statistic):</th> <td>4.98e-10</td>\n",
       "</tr>\n",
       "<tr>\n",
       "  <th>Time:</th>                 <td>22:19:01</td>     <th>  Log-Likelihood:    </th> <td>  42.670</td>\n",
       "</tr>\n",
       "<tr>\n",
       "  <th>No. Observations:</th>      <td>    16</td>      <th>  AIC:               </th> <td>  -71.34</td>\n",
       "</tr>\n",
       "<tr>\n",
       "  <th>Df Residuals:</th>          <td>     9</td>      <th>  BIC:               </th> <td>  -65.93</td>\n",
       "</tr>\n",
       "<tr>\n",
       "  <th>Df Model:</th>              <td>     6</td>      <th>                     </th>     <td> </td>   \n",
       "</tr>\n",
       "<tr>\n",
       "  <th>Covariance Type:</th>      <td>nonrobust</td>    <th>                     </th>     <td> </td>   \n",
       "</tr>\n",
       "</table>\n",
       "<table class=\"simpletable\">\n",
       "<tr>\n",
       "    <td></td>       <th>coef</th>     <th>std err</th>      <th>t</th>      <th>P>|t|</th>  <th>[0.025</th>    <th>0.975]</th>  \n",
       "</tr>\n",
       "<tr>\n",
       "  <th>const</th> <td>-1.128e-17</td> <td>    0.006</td> <td>-2.01e-15</td> <td> 1.000</td> <td>   -0.013</td> <td>    0.013</td>\n",
       "</tr>\n",
       "<tr>\n",
       "  <th>x1</th>    <td>    0.0463</td> <td>    0.261</td> <td>    0.177</td> <td> 0.863</td> <td>   -0.544</td> <td>    0.637</td>\n",
       "</tr>\n",
       "<tr>\n",
       "  <th>x2</th>    <td>   -1.0137</td> <td>    0.948</td> <td>   -1.070</td> <td> 0.313</td> <td>   -3.158</td> <td>    1.130</td>\n",
       "</tr>\n",
       "<tr>\n",
       "  <th>x3</th>    <td>   -0.5375</td> <td>    0.130</td> <td>   -4.136</td> <td> 0.003</td> <td>   -0.832</td> <td>   -0.244</td>\n",
       "</tr>\n",
       "<tr>\n",
       "  <th>x4</th>    <td>   -0.2047</td> <td>    0.042</td> <td>   -4.822</td> <td> 0.001</td> <td>   -0.301</td> <td>   -0.109</td>\n",
       "</tr>\n",
       "<tr>\n",
       "  <th>x5</th>    <td>   -0.1012</td> <td>    0.448</td> <td>   -0.226</td> <td> 0.826</td> <td>   -1.114</td> <td>    0.912</td>\n",
       "</tr>\n",
       "<tr>\n",
       "  <th>x6</th>    <td>    2.4797</td> <td>    0.617</td> <td>    4.016</td> <td> 0.003</td> <td>    1.083</td> <td>    3.876</td>\n",
       "</tr>\n",
       "</table>\n",
       "<table class=\"simpletable\">\n",
       "<tr>\n",
       "  <th>Omnibus:</th>       <td> 0.749</td> <th>  Durbin-Watson:     </th> <td>   2.559</td>\n",
       "</tr>\n",
       "<tr>\n",
       "  <th>Prob(Omnibus):</th> <td> 0.688</td> <th>  Jarque-Bera (JB):  </th> <td>   0.684</td>\n",
       "</tr>\n",
       "<tr>\n",
       "  <th>Skew:</th>          <td> 0.420</td> <th>  Prob(JB):          </th> <td>   0.710</td>\n",
       "</tr>\n",
       "<tr>\n",
       "  <th>Kurtosis:</th>      <td> 2.434</td> <th>  Cond. No.          </th> <td>    206.</td>\n",
       "</tr>\n",
       "</table><br/><br/>Notes:<br/>[1] Standard Errors assume that the covariance matrix of the errors is correctly specified."
      ],
      "text/plain": [
       "<class 'statsmodels.iolib.summary.Summary'>\n",
       "\"\"\"\n",
       "                            OLS Regression Results                            \n",
       "==============================================================================\n",
       "Dep. Variable:                      y   R-squared:                       0.995\n",
       "Model:                            OLS   Adj. R-squared:                  0.992\n",
       "Method:                 Least Squares   F-statistic:                     330.3\n",
       "Date:                Tue, 20 Apr 2021   Prob (F-statistic):           4.98e-10\n",
       "Time:                        22:19:01   Log-Likelihood:                 42.670\n",
       "No. Observations:                  16   AIC:                            -71.34\n",
       "Df Residuals:                       9   BIC:                            -65.93\n",
       "Df Model:                           6                                         \n",
       "Covariance Type:            nonrobust                                         \n",
       "==============================================================================\n",
       "                 coef    std err          t      P>|t|      [0.025      0.975]\n",
       "------------------------------------------------------------------------------\n",
       "const      -1.128e-17      0.006  -2.01e-15      1.000      -0.013       0.013\n",
       "x1             0.0463      0.261      0.177      0.863      -0.544       0.637\n",
       "x2            -1.0137      0.948     -1.070      0.313      -3.158       1.130\n",
       "x3            -0.5375      0.130     -4.136      0.003      -0.832      -0.244\n",
       "x4            -0.2047      0.042     -4.822      0.001      -0.301      -0.109\n",
       "x5            -0.1012      0.448     -0.226      0.826      -1.114       0.912\n",
       "x6             2.4797      0.617      4.016      0.003       1.083       3.876\n",
       "==============================================================================\n",
       "Omnibus:                        0.749   Durbin-Watson:                   2.559\n",
       "Prob(Omnibus):                  0.688   Jarque-Bera (JB):                0.684\n",
       "Skew:                           0.420   Prob(JB):                        0.710\n",
       "Kurtosis:                       2.434   Cond. No.                         206.\n",
       "==============================================================================\n",
       "\n",
       "Notes:\n",
       "[1] Standard Errors assume that the covariance matrix of the errors is correctly specified.\n",
       "\"\"\""
      ]
     },
     "execution_count": 4,
     "metadata": {},
     "output_type": "execute_result"
    }
   ],
   "source": [
    "# Do the multiple linear regression——对标准化后的数据\n",
    "model_std = sm.OLS(Y_std, X_std).fit()\n",
    "beta_std = model_std.params\n",
    "model_std.summary()"
   ]
  },
  {
   "cell_type": "markdown",
   "metadata": {},
   "source": [
    "**求 $(X^*)^{'}(X^*)$ 矩阵的特征值和特征向量:**\n",
    "\n",
    "如果求得的特征值至少一个非常接近0，则可以认为存在多重共线性。"
   ]
  },
  {
   "cell_type": "code",
   "execution_count": 5,
   "metadata": {
    "scrolled": false
   },
   "outputs": [
    {
     "data": {
      "text/html": [
       "<div>\n",
       "<style scoped>\n",
       "    .dataframe tbody tr th:only-of-type {\n",
       "        vertical-align: middle;\n",
       "    }\n",
       "\n",
       "    .dataframe tbody tr th {\n",
       "        vertical-align: top;\n",
       "    }\n",
       "\n",
       "    .dataframe thead th {\n",
       "        text-align: right;\n",
       "    }\n",
       "</style>\n",
       "<table border=\"1\" class=\"dataframe\">\n",
       "  <thead>\n",
       "    <tr style=\"text-align: right;\">\n",
       "      <th></th>\n",
       "      <th>1</th>\n",
       "      <th>2</th>\n",
       "      <th>3</th>\n",
       "      <th>4</th>\n",
       "      <th>5</th>\n",
       "      <th>6</th>\n",
       "    </tr>\n",
       "  </thead>\n",
       "  <tbody>\n",
       "    <tr>\n",
       "      <th>1</th>\n",
       "      <td>1.000000</td>\n",
       "      <td>0.991589</td>\n",
       "      <td>0.620633</td>\n",
       "      <td>0.464744</td>\n",
       "      <td>0.979163</td>\n",
       "      <td>0.991149</td>\n",
       "    </tr>\n",
       "    <tr>\n",
       "      <th>2</th>\n",
       "      <td>0.991589</td>\n",
       "      <td>1.000000</td>\n",
       "      <td>0.604261</td>\n",
       "      <td>0.446437</td>\n",
       "      <td>0.991090</td>\n",
       "      <td>0.995273</td>\n",
       "    </tr>\n",
       "    <tr>\n",
       "      <th>3</th>\n",
       "      <td>0.620633</td>\n",
       "      <td>0.604261</td>\n",
       "      <td>1.000000</td>\n",
       "      <td>-0.177421</td>\n",
       "      <td>0.686552</td>\n",
       "      <td>0.668257</td>\n",
       "    </tr>\n",
       "    <tr>\n",
       "      <th>4</th>\n",
       "      <td>0.464744</td>\n",
       "      <td>0.446437</td>\n",
       "      <td>-0.177421</td>\n",
       "      <td>1.000000</td>\n",
       "      <td>0.364416</td>\n",
       "      <td>0.417245</td>\n",
       "    </tr>\n",
       "    <tr>\n",
       "      <th>5</th>\n",
       "      <td>0.979163</td>\n",
       "      <td>0.991090</td>\n",
       "      <td>0.686552</td>\n",
       "      <td>0.364416</td>\n",
       "      <td>1.000000</td>\n",
       "      <td>0.993953</td>\n",
       "    </tr>\n",
       "    <tr>\n",
       "      <th>6</th>\n",
       "      <td>0.991149</td>\n",
       "      <td>0.995273</td>\n",
       "      <td>0.668257</td>\n",
       "      <td>0.417245</td>\n",
       "      <td>0.993953</td>\n",
       "      <td>1.000000</td>\n",
       "    </tr>\n",
       "  </tbody>\n",
       "</table>\n",
       "</div>"
      ],
      "text/plain": [
       "          1         2         3         4         5         6\n",
       "1  1.000000  0.991589  0.620633  0.464744  0.979163  0.991149\n",
       "2  0.991589  1.000000  0.604261  0.446437  0.991090  0.995273\n",
       "3  0.620633  0.604261  1.000000 -0.177421  0.686552  0.668257\n",
       "4  0.464744  0.446437 -0.177421  1.000000  0.364416  0.417245\n",
       "5  0.979163  0.991090  0.686552  0.364416  1.000000  0.993953\n",
       "6  0.991149  0.995273  0.668257  0.417245  0.993953  1.000000"
      ]
     },
     "execution_count": 5,
     "metadata": {},
     "output_type": "execute_result"
    }
   ],
   "source": [
    "# (X*)'(X*) 矩阵等价于原始矩阵 X 样本相关矩阵\n",
    "R = df.corr()\n",
    "R = R.iloc[1:-1,1:-1]\n",
    "\n",
    "# 求 (X*)'(X*) 矩阵，结果与样本相关矩阵一致\n",
    "# R1 = np.dot(X_std.T,X_std) \n",
    "# R1 = pd.DataFrame(R1[1:,1:])\n",
    "\n",
    "R"
   ]
  },
  {
   "cell_type": "code",
   "execution_count": 6,
   "metadata": {},
   "outputs": [
    {
     "name": "stdout",
     "output_type": "stream",
     "text": [
      "特征值: [4.60337710e+00 1.17534050e+00 2.03425372e-01 1.49282587e-02\n",
      " 2.55206576e-03 3.76708133e-04]\n"
     ]
    }
   ],
   "source": [
    "# 求特征值 & 特征向量\n",
    "W, V = np.linalg.eig(R)\n",
    "W_diag = np.diag(W)\n",
    "V = V.T # 这里需要转置\n",
    "\n",
    "print('特征值:', W)\n",
    "# print(W_diag)\n",
    "# print(sum(W)) # 验证特征值求和值为 p\n",
    "# VV = np.dot(V,V.T)\n",
    "# VV = pd.DataFrame(VV)\n",
    "# print(VV) # 验证矩阵 V'V 结果为单位阵\n"
   ]
  },
  {
   "cell_type": "markdown",
   "metadata": {},
   "source": [
    "**判断 X 矩阵是否具有多重共线性:**"
   ]
  },
  {
   "cell_type": "code",
   "execution_count": 7,
   "metadata": {},
   "outputs": [
    {
     "name": "stdout",
     "output_type": "stream",
     "text": [
      "VIF方法判断结果(阈值为 5): \n",
      "设计矩阵 X 存在多重共线性.\n",
      "\n",
      "特征值判定法判断结果(阈值为 10): \n",
      "设计矩阵 X 存在多重共线性，其中kappa值为：110.5442\n"
     ]
    }
   ],
   "source": [
    "# 定义\"判断多重共线性\"的函数\n",
    "# 参数: (X_list: 设计矩阵 X, thres_vif: VIF 方法判断多重共线性的阈值, thres_kappa: 特征值方法判断多重共线性的阈值)\n",
    "def judge_col(X_list, thres_vif, thres_kappa): \n",
    "    var_num = X_list.shape[1]\n",
    "    print('VIF方法判断结果(阈值为 %d): '% thres_vif)\n",
    "    vif = [variance_inflation_factor(X_list, i) for i in range(var_num)]\n",
    "    for i in range(var_num):\n",
    "        if vif[i] >= thres_vif:\n",
    "            print('设计矩阵 X 存在多重共线性.')\n",
    "            break\n",
    "        elif i == var_num-1:\n",
    "            print('设计矩阵 X 不存在多重共线性.')\n",
    "\n",
    "    print('\\n特征值判定法判断结果(阈值为 %d): '% thres_kappa)\n",
    "    kappa = []\n",
    "    for i in range(var_num):\n",
    "        kappa.append(np.sqrt(max(W) / W[i]))\n",
    "    if np.max(kappa) >= thres_kappa:\n",
    "        print('设计矩阵 X 存在多重共线性，其中kappa值为：%.4f'% np.max(kappa))\n",
    "    else:\n",
    "        print('设计矩阵 X 不存在多重共线性，其中kappa值为：%.4f'% np.max(kappa))\n",
    "\n",
    "# 判断多重共线性\n",
    "judge_col(X_std[:,1:p+1], 5, 10)"
   ]
  },
  {
   "cell_type": "markdown",
   "metadata": {},
   "source": [
    "**Q2:**\n",
    "\n",
    "本题需要构造出主成分矩阵，然后利用累计贡献率和特征值选择出适当的要保留的主成分的数量，并选择出需要保留的主成分。"
   ]
  },
  {
   "cell_type": "markdown",
   "metadata": {},
   "source": [
    "**构造主成分矩阵 Z:**"
   ]
  },
  {
   "cell_type": "code",
   "execution_count": 8,
   "metadata": {},
   "outputs": [],
   "source": [
    "# 构造主成分矩阵 Z\n",
    "Z = np.dot(X_std[:,1:p+1],V.T)\n",
    "# ZZ = np.dot(Z.T,Z)\n",
    "# ZZ = pd.DataFrame(ZZ)\n",
    "# print(ZZ)  # 验证主成分矩阵 Z 各列之间正交，主对角线元素对应的是特征值"
   ]
  },
  {
   "cell_type": "code",
   "execution_count": 9,
   "metadata": {},
   "outputs": [
    {
     "name": "stdout",
     "output_type": "stream",
     "text": [
      "(X*)'X*的行列式:  1.5796154862477436e-08\n"
     ]
    }
   ],
   "source": [
    "D = np.linalg.det(R)\n",
    "print('(X*)\\'X*的行列式: ', D)"
   ]
  },
  {
   "cell_type": "markdown",
   "metadata": {},
   "source": [
    "由于 $|(X^*)^{'}(X^*)| \\approx 0$, 则存在一个 k, 使得 $\\lambda_{k+1},\\cdots,\\lambda_p$ 均近似为 0. 因此 $\\mathbf{z}_{k+1},\\cdots,\\mathbf{z}_p$ 近似为 $\\mathbf{0}$ "
   ]
  },
  {
   "cell_type": "markdown",
   "metadata": {},
   "source": [
    "**选主成分:**"
   ]
  },
  {
   "cell_type": "code",
   "execution_count": 10,
   "metadata": {},
   "outputs": [
    {
     "name": "stdout",
     "output_type": "stream",
     "text": [
      "特征值为:  [4.603377095768392, 1.1753404992571477, 0.20342537240143493, 0.014928258677276958, 0.002552065763074821, 0.0003767081326775469]\n",
      "排序后特征值对应的原索引值:  [0 1 2 3 4 5]\n"
     ]
    }
   ],
   "source": [
    "# 对特征值按降序排序\n",
    "W_srt = W.tolist()\n",
    "W_srt.sort(reverse=True)\n",
    "W_idx = np.argsort(-W) # 返回的是元素值降序排序后的索引值的数组\n",
    "print('特征值为: ', W_srt)\n",
    "print('排序后特征值对应的原索引值: ', W_idx)"
   ]
  },
  {
   "cell_type": "code",
   "execution_count": 11,
   "metadata": {},
   "outputs": [
    {
     "data": {
      "image/png": "[encoded data removed]",
      "text/plain": [
       "<Figure size 432x288 with 1 Axes>"
      ]
     },
     "metadata": {
      "needs_background": "light"
     },
     "output_type": "display_data"
    }
   ],
   "source": [
    "# 绘制主成分的累计贡献率(响应变量中解释的方差百分比)与组件数量的碎石图\n",
    "comp = range(0, p+1)\n",
    "# 主成分的累计贡献率(计算方差百分比)\n",
    "summ = 0\n",
    "W_sum = [0]\n",
    "for i in range(p):\n",
    "    summ += W_srt[i]\n",
    "    W_sum.append(summ / p)\n",
    "plt.plot(comp, W_sum)\n",
    "plt.xlabel('Number of PCR components')\n",
    "plt.ylabel('Percent Variance Explained in Y')\n",
    "for i,j in zip(comp, W_sum):\n",
    "    plt.text(i, j, '%.4f' % float(j))"
   ]
  },
  {
   "cell_type": "code",
   "execution_count": 12,
   "metadata": {},
   "outputs": [
    {
     "name": "stdout",
     "output_type": "stream",
     "text": [
      "保留变量个数为:  2\n"
     ]
    }
   ],
   "source": [
    "# 保留累计贡献率比重大的主成分\n",
    "c_pc = 0.8\n",
    "cnt = True\n",
    "thres = p * c_pc\n",
    "while cnt:\n",
    "    W_sum = 0\n",
    "    W_summ = W_srt[0] \n",
    "    for i in range(p-1):\n",
    "        k1 = i + 1 \n",
    "        W_sum += W_srt[i]\n",
    "        W_summ += W_srt[i+1]\n",
    "        # print(i,W_sum,W_summ,thres)\n",
    "        if (W_sum < thres) & (W_summ >= thres):\n",
    "            cnt = False\n",
    "            break\n",
    "        elif i == p - 2:\n",
    "            cnt = False\n",
    "            k1 = i + 1\n",
    "            break\n",
    "k1 = k1 + 1\n",
    "print('保留变量个数为: ', k1) "
   ]
  },
  {
   "cell_type": "code",
   "execution_count": 13,
   "metadata": {},
   "outputs": [
    {
     "name": "stdout",
     "output_type": "stream",
     "text": [
      "保留变量个数为:  2\n"
     ]
    }
   ],
   "source": [
    "# 删除特征值接近于零的主成分\n",
    "for i in range(p):\n",
    "    if W_srt[i] < 1:\n",
    "        k2 = i\n",
    "        break\n",
    "print('保留变量个数为: ', k2)   "
   ]
  },
  {
   "cell_type": "code",
   "execution_count": 14,
   "metadata": {},
   "outputs": [
    {
     "name": "stdout",
     "output_type": "stream",
     "text": [
      "5 0.21723182333231833\n",
      "10 1.0680490976728447\n",
      "15 5.983856738553664\n",
      "20 72.97090604003378\n",
      "保留变量个数 <= 3\n"
     ]
    }
   ],
   "source": [
    "# 均方误差确定 k\n",
    "mse = 0\n",
    "for i in range(p):\n",
    "    k3 = p\n",
    "    mse += 1 / W_srt[i]\n",
    "    print(5 * (i + 1), mse)\n",
    "    if mse > 5 * (i + 1):\n",
    "        k3 = i\n",
    "        break\n",
    "    elif i == p-1:\n",
    "        k3 = p\n",
    "        break\n",
    "print('保留变量个数 <=', k3) "
   ]
  },
  {
   "cell_type": "markdown",
   "metadata": {},
   "source": [
    "根据选择的累计贡献率，特征值，均方误差三个指标，综上，我们选择保留变量的个数为 2."
   ]
  },
  {
   "cell_type": "markdown",
   "metadata": {},
   "source": [
    "**Q3:**\n",
    "\n",
    "在设计矩阵X具有多重共线性时，选择合适的k，可以降低回归系数的均方误差。在进行主成分回归时，代码有两种编写方法：一为利用矩阵拆分的原理进行主成分回归，二为直接调用PCA库进行主成分分析。以下依次是两种方法的代码。"
   ]
  },
  {
   "cell_type": "code",
   "execution_count": 15,
   "metadata": {
    "scrolled": true
   },
   "outputs": [
    {
     "name": "stdout",
     "output_type": "stream",
     "text": [
      "系数: [0.44565109 0.11156928]\n"
     ]
    }
   ],
   "source": [
    "# 矩阵拆分\n",
    "k = k1\n",
    "list_var1 = W_idx[0:k] # 记录降序排序后的前 k 个主成分\n",
    "list_var2 = W_idx[k:]\n",
    "# list_var1 = [0,2] \n",
    "# list_var2 = [1,3]\n",
    "\n",
    "Z_1 = Z[:,list_var1]\n",
    "Z_2 = Z[:,list_var2]\n",
    "\n",
    "W_diag_1 = np.diag(W_diag[list_var1,list_var1])\n",
    "W_diag_2 = np.diag(W_diag[list_var2,list_var2])\n",
    "\n",
    "# 按行进行拆分\n",
    "V_1 = V[list_var1,:]\n",
    "V_2 = V[list_var2,:]\n",
    "\n",
    "# α的估计\n",
    "# alpha_hat = np.linalg.inv(W_diag) @ Z.T @ Y_std\n",
    "alpha1_hat = np.linalg.inv(W_diag_1) @ Z_1.T @ Y_std\n",
    "print('系数:', alpha1_hat)\n",
    "\n",
    "# 主成分估计\n",
    "# beta_pc = np.dot(V_1.T,alpha1_hat)\n",
    "# print(beta_pc)\n",
    "# print(V_1.T @ V_1 @ beta_std[1:]) # 验证PPT 99页的性质1"
   ]
  },
  {
   "cell_type": "code",
   "execution_count": 16,
   "metadata": {},
   "outputs": [
    {
     "name": "stderr",
     "output_type": "stream",
     "text": [
      "/Library/Frameworks/Python.framework/Versions/3.6/lib/python3.6/site-packages/scipy/stats/stats.py:1604: UserWarning: kurtosistest only valid for n>=20 ... continuing anyway, n=16\n",
      "  \"anyway, n=%i\" % int(n))\n"
     ]
    },
    {
     "data": {
      "text/html": [
       "<table class=\"simpletable\">\n",
       "<caption>OLS Regression Results</caption>\n",
       "<tr>\n",
       "  <th>Dep. Variable:</th>            <td>y</td>        <th>  R-squared (uncentered):</th>      <td>   0.929</td>\n",
       "</tr>\n",
       "<tr>\n",
       "  <th>Model:</th>                   <td>OLS</td>       <th>  Adj. R-squared (uncentered):</th> <td>   0.919</td>\n",
       "</tr>\n",
       "<tr>\n",
       "  <th>Method:</th>             <td>Least Squares</td>  <th>  F-statistic:       </th>          <td>   91.43</td>\n",
       "</tr>\n",
       "<tr>\n",
       "  <th>Date:</th>             <td>Tue, 20 Apr 2021</td> <th>  Prob (F-statistic):</th>          <td>9.20e-09</td>\n",
       "</tr>\n",
       "<tr>\n",
       "  <th>Time:</th>                 <td>22:19:03</td>     <th>  Log-Likelihood:    </th>          <td>  20.625</td>\n",
       "</tr>\n",
       "<tr>\n",
       "  <th>No. Observations:</th>      <td>    16</td>      <th>  AIC:               </th>          <td>  -37.25</td>\n",
       "</tr>\n",
       "<tr>\n",
       "  <th>Df Residuals:</th>          <td>    14</td>      <th>  BIC:               </th>          <td>  -35.71</td>\n",
       "</tr>\n",
       "<tr>\n",
       "  <th>Df Model:</th>              <td>     2</td>      <th>                     </th>              <td> </td>   \n",
       "</tr>\n",
       "<tr>\n",
       "  <th>Covariance Type:</th>      <td>nonrobust</td>    <th>                     </th>              <td> </td>   \n",
       "</tr>\n",
       "</table>\n",
       "<table class=\"simpletable\">\n",
       "<tr>\n",
       "   <td></td>     <th>coef</th>     <th>std err</th>      <th>t</th>      <th>P>|t|</th>  <th>[0.025</th>    <th>0.975]</th>  \n",
       "</tr>\n",
       "<tr>\n",
       "  <th>x1</th> <td>    0.4457</td> <td>    0.033</td> <td>   13.416</td> <td> 0.000</td> <td>    0.374</td> <td>    0.517</td>\n",
       "</tr>\n",
       "<tr>\n",
       "  <th>x2</th> <td>    0.1116</td> <td>    0.066</td> <td>    1.697</td> <td> 0.112</td> <td>   -0.029</td> <td>    0.253</td>\n",
       "</tr>\n",
       "</table>\n",
       "<table class=\"simpletable\">\n",
       "<tr>\n",
       "  <th>Omnibus:</th>       <td> 0.210</td> <th>  Durbin-Watson:     </th> <td>   1.919</td>\n",
       "</tr>\n",
       "<tr>\n",
       "  <th>Prob(Omnibus):</th> <td> 0.900</td> <th>  Jarque-Bera (JB):  </th> <td>   0.371</td>\n",
       "</tr>\n",
       "<tr>\n",
       "  <th>Skew:</th>          <td>-0.201</td> <th>  Prob(JB):          </th> <td>   0.831</td>\n",
       "</tr>\n",
       "<tr>\n",
       "  <th>Kurtosis:</th>      <td> 2.371</td> <th>  Cond. No.          </th> <td>    1.98</td>\n",
       "</tr>\n",
       "</table><br/><br/>Notes:<br/>[1] R² is computed without centering (uncentered) since the model does not contain a constant.<br/>[2] Standard Errors assume that the covariance matrix of the errors is correctly specified."
      ],
      "text/plain": [
       "<class 'statsmodels.iolib.summary.Summary'>\n",
       "\"\"\"\n",
       "                                 OLS Regression Results                                \n",
       "=======================================================================================\n",
       "Dep. Variable:                      y   R-squared (uncentered):                   0.929\n",
       "Model:                            OLS   Adj. R-squared (uncentered):              0.919\n",
       "Method:                 Least Squares   F-statistic:                              91.43\n",
       "Date:                Tue, 20 Apr 2021   Prob (F-statistic):                    9.20e-09\n",
       "Time:                        22:19:03   Log-Likelihood:                          20.625\n",
       "No. Observations:                  16   AIC:                                     -37.25\n",
       "Df Residuals:                      14   BIC:                                     -35.71\n",
       "Df Model:                           2                                                  \n",
       "Covariance Type:            nonrobust                                                  \n",
       "==============================================================================\n",
       "                 coef    std err          t      P>|t|      [0.025      0.975]\n",
       "------------------------------------------------------------------------------\n",
       "x1             0.4457      0.033     13.416      0.000       0.374       0.517\n",
       "x2             0.1116      0.066      1.697      0.112      -0.029       0.253\n",
       "==============================================================================\n",
       "Omnibus:                        0.210   Durbin-Watson:                   1.919\n",
       "Prob(Omnibus):                  0.900   Jarque-Bera (JB):                0.371\n",
       "Skew:                          -0.201   Prob(JB):                        0.831\n",
       "Kurtosis:                       2.371   Cond. No.                         1.98\n",
       "==============================================================================\n",
       "\n",
       "Notes:\n",
       "[1] R² is computed without centering (uncentered) since the model does not contain a constant.\n",
       "[2] Standard Errors assume that the covariance matrix of the errors is correctly specified.\n",
       "\"\"\""
      ]
     },
     "execution_count": 16,
     "metadata": {},
     "output_type": "execute_result"
    }
   ],
   "source": [
    "# 使用拆分后的数据用线性回归模型进行建模\n",
    "X_pc = Z_1\n",
    "model_pc = sm.OLS(Y_std, X_pc).fit()\n",
    "model_pc.summary()"
   ]
  },
  {
   "cell_type": "code",
   "execution_count": 17,
   "metadata": {},
   "outputs": [
    {
     "name": "stdout",
     "output_type": "stream",
     "text": [
      "VIF方法判断结果(阈值为 5): \n",
      "设计矩阵 X 不存在多重共线性.\n",
      "\n",
      "特征值判定法判断结果(阈值为 10): \n",
      "设计矩阵 X 不存在多重共线性，其中kappa值为：1.9790\n"
     ]
    }
   ],
   "source": [
    "# 判断多重共线性【k > 1 时才可能存在多重共线性问题】\n",
    "judge_col(X_pc, thres_vif=5, thres_kappa=10)"
   ]
  },
  {
   "cell_type": "code",
   "execution_count": 18,
   "metadata": {
    "scrolled": false
   },
   "outputs": [
    {
     "name": "stderr",
     "output_type": "stream",
     "text": [
      "/Library/Frameworks/Python.framework/Versions/3.6/lib/python3.6/site-packages/scipy/stats/stats.py:1604: UserWarning: kurtosistest only valid for n>=20 ... continuing anyway, n=16\n",
      "  \"anyway, n=%i\" % int(n))\n"
     ]
    },
    {
     "data": {
      "text/html": [
       "<table class=\"simpletable\">\n",
       "<caption>OLS Regression Results</caption>\n",
       "<tr>\n",
       "  <th>Dep. Variable:</th>            <td>y</td>        <th>  R-squared (uncentered):</th>      <td>   0.929</td>\n",
       "</tr>\n",
       "<tr>\n",
       "  <th>Model:</th>                   <td>OLS</td>       <th>  Adj. R-squared (uncentered):</th> <td>   0.919</td>\n",
       "</tr>\n",
       "<tr>\n",
       "  <th>Method:</th>             <td>Least Squares</td>  <th>  F-statistic:       </th>          <td>   91.43</td>\n",
       "</tr>\n",
       "<tr>\n",
       "  <th>Date:</th>             <td>Tue, 20 Apr 2021</td> <th>  Prob (F-statistic):</th>          <td>9.20e-09</td>\n",
       "</tr>\n",
       "<tr>\n",
       "  <th>Time:</th>                 <td>22:19:03</td>     <th>  Log-Likelihood:    </th>          <td>  20.625</td>\n",
       "</tr>\n",
       "<tr>\n",
       "  <th>No. Observations:</th>      <td>    16</td>      <th>  AIC:               </th>          <td>  -37.25</td>\n",
       "</tr>\n",
       "<tr>\n",
       "  <th>Df Residuals:</th>          <td>    14</td>      <th>  BIC:               </th>          <td>  -35.71</td>\n",
       "</tr>\n",
       "<tr>\n",
       "  <th>Df Model:</th>              <td>     2</td>      <th>                     </th>              <td> </td>   \n",
       "</tr>\n",
       "<tr>\n",
       "  <th>Covariance Type:</th>      <td>nonrobust</td>    <th>                     </th>              <td> </td>   \n",
       "</tr>\n",
       "</table>\n",
       "<table class=\"simpletable\">\n",
       "<tr>\n",
       "   <td></td>     <th>coef</th>     <th>std err</th>      <th>t</th>      <th>P>|t|</th>  <th>[0.025</th>    <th>0.975]</th>  \n",
       "</tr>\n",
       "<tr>\n",
       "  <th>x1</th> <td>   -0.4457</td> <td>    0.033</td> <td>  -13.416</td> <td> 0.000</td> <td>   -0.517</td> <td>   -0.374</td>\n",
       "</tr>\n",
       "<tr>\n",
       "  <th>x2</th> <td>    0.1116</td> <td>    0.066</td> <td>    1.697</td> <td> 0.112</td> <td>   -0.029</td> <td>    0.253</td>\n",
       "</tr>\n",
       "</table>\n",
       "<table class=\"simpletable\">\n",
       "<tr>\n",
       "  <th>Omnibus:</th>       <td> 0.210</td> <th>  Durbin-Watson:     </th> <td>   1.919</td>\n",
       "</tr>\n",
       "<tr>\n",
       "  <th>Prob(Omnibus):</th> <td> 0.900</td> <th>  Jarque-Bera (JB):  </th> <td>   0.371</td>\n",
       "</tr>\n",
       "<tr>\n",
       "  <th>Skew:</th>          <td>-0.201</td> <th>  Prob(JB):          </th> <td>   0.831</td>\n",
       "</tr>\n",
       "<tr>\n",
       "  <th>Kurtosis:</th>      <td> 2.371</td> <th>  Cond. No.          </th> <td>    1.98</td>\n",
       "</tr>\n",
       "</table><br/><br/>Notes:<br/>[1] R² is computed without centering (uncentered) since the model does not contain a constant.<br/>[2] Standard Errors assume that the covariance matrix of the errors is correctly specified."
      ],
      "text/plain": [
       "<class 'statsmodels.iolib.summary.Summary'>\n",
       "\"\"\"\n",
       "                                 OLS Regression Results                                \n",
       "=======================================================================================\n",
       "Dep. Variable:                      y   R-squared (uncentered):                   0.929\n",
       "Model:                            OLS   Adj. R-squared (uncentered):              0.919\n",
       "Method:                 Least Squares   F-statistic:                              91.43\n",
       "Date:                Tue, 20 Apr 2021   Prob (F-statistic):                    9.20e-09\n",
       "Time:                        22:19:03   Log-Likelihood:                          20.625\n",
       "No. Observations:                  16   AIC:                                     -37.25\n",
       "Df Residuals:                      14   BIC:                                     -35.71\n",
       "Df Model:                           2                                                  \n",
       "Covariance Type:            nonrobust                                                  \n",
       "==============================================================================\n",
       "                 coef    std err          t      P>|t|      [0.025      0.975]\n",
       "------------------------------------------------------------------------------\n",
       "x1            -0.4457      0.033    -13.416      0.000      -0.517      -0.374\n",
       "x2             0.1116      0.066      1.697      0.112      -0.029       0.253\n",
       "==============================================================================\n",
       "Omnibus:                        0.210   Durbin-Watson:                   1.919\n",
       "Prob(Omnibus):                  0.900   Jarque-Bera (JB):                0.371\n",
       "Skew:                          -0.201   Prob(JB):                        0.831\n",
       "Kurtosis:                       2.371   Cond. No.                         1.98\n",
       "==============================================================================\n",
       "\n",
       "Notes:\n",
       "[1] R² is computed without centering (uncentered) since the model does not contain a constant.\n",
       "[2] Standard Errors assume that the covariance matrix of the errors is correctly specified.\n",
       "\"\"\""
      ]
     },
     "execution_count": 18,
     "metadata": {},
     "output_type": "execute_result"
    }
   ],
   "source": [
    "# 创建pca模型\n",
    "pca = PCA(n_components=2)\n",
    "\n",
    "# 对模型进行训练\n",
    "X_pc_ = X_std * 1.0\n",
    "pca.fit(X_pc_)\n",
    "\n",
    "# 返回降维后数据\n",
    "X_pc_ = pca.transform(X_pc_)\n",
    "\n",
    "# 使用返回后的数据用线性回归模型进行建模\n",
    "model_pc_ = sm.OLS(Y_std, X_pc_).fit()\n",
    "model_pc_.summary()"
   ]
  },
  {
   "cell_type": "code",
   "execution_count": 19,
   "metadata": {
    "scrolled": true
   },
   "outputs": [
    {
     "name": "stdout",
     "output_type": "stream",
     "text": [
      "VIF方法判断结果(阈值为 5): \n",
      "设计矩阵 X 不存在多重共线性.\n",
      "\n",
      "特征值判定法判断结果(阈值为 10): \n",
      "设计矩阵 X 不存在多重共线性，其中kappa值为：1.9790\n"
     ]
    }
   ],
   "source": [
    "# 判断多重共线性【k 值大于 1 时才可能存在多重共线性问题】\n",
    "judge_col(X_pc_, thres_vif=5, thres_kappa=10)"
   ]
  },
  {
   "cell_type": "markdown",
   "metadata": {},
   "source": [
    "可以看出，选择合适的k用于进行主成分回归，可以使得到的设计矩阵X不再具有多重共线性。故主成分回归可用于数据具有多重共线性的情形。"
   ]
  }
 ],
 "metadata": {
  "kernelspec": {
   "display_name": "Python 3",
   "language": "python",
   "name": "python3"
  },
  "language_info": {
   "codemirror_mode": {
    "name": "ipython",
    "version": 3
   },
   "file_extension": ".py",
   "mimetype": "text/x-python",
   "name": "python",
   "nbconvert_exporter": "python",
   "pygments_lexer": "ipython3",
   "version": "3.6.8"
  }
 },
 "nbformat": 4,
 "nbformat_minor": 4
}
