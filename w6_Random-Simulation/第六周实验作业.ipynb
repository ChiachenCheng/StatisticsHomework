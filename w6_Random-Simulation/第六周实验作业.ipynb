{
 "cells": [
  {
   "cell_type": "markdown",
   "metadata": {},
   "source": [
    "# Week6 Random Simulation\n",
    "\n",
    "## 背景描述  \n",
    "\n",
    "设计一个模拟:实现欠拟合和过拟合对多元线性回归模型的影响。\n",
    "\n",
    "在模拟中，我们可以定义$Bias^2_k,\\ Var_k,\\ MSE_k$分别为第 k 个线性回归模型的偏差平方、方差和均方误差。\n",
    "\n",
    "## 数据描述\n",
    "\n",
    "参数设置如下:\n",
    "\n",
    "i. 样本量$n=300$;\n",
    "\n",
    "ii. 变量维度 $(p, p_1) = (20, 10)$;\n",
    "\n",
    "iii. 自变量的波动 $\\sigma_x = 0.2$;\n",
    "\n",
    "iv. 自变量的相依程度 $\\rho_x = 0$;\n",
    "\n",
    "v. 误差的波动 $\\sigma_y = 3$;\n",
    "\n",
    "vi. 预测点的位置 $\\pmb{x}_0 = (1, \\pmb{0.05}^′_{20})^′$;\n",
    "\n",
    "vii. 重复次数 $M = 5000$"
   ]
  },
  {
   "cell_type": "markdown",
   "metadata": {},
   "source": [
    "## 问题\n",
    "\n",
    "(a) 在同一张图上采用三种颜色绘制$Bias^2_k$、$Var_k$ 和 $MSE_k$ 的三条曲线。\n",
    "\n",
    "(b) 标示出 MSE 最小所对应的自变量个数。\n",
    "\n",
    "## 解决方案\n",
    "\n",
    "根据作业中给出的要求，编写python代码如下。首先加载相应的库函数。"
   ]
  },
  {
   "cell_type": "code",
   "execution_count": 1,
   "metadata": {},
   "outputs": [],
   "source": [
    "import numpy as np\n",
    "import random\n",
    "import matplotlib.pyplot as plt"
   ]
  },
  {
   "cell_type": "markdown",
   "metadata": {},
   "source": [
    "然后定义重要的函数。其中，epsilon函數用於生成向量$\\pmb{\\epsilon}=(\\epsilon_1,\\epsilon_2,...,\\epsilon_n)$，其中$\\epsilon_i$独立同分布于正态分布$N(0,\\sigma^2_y)$。y_real函數用於根據給定的beta和生成X並構造y向量，公式是$\\pmb{y}=\\pmb{X}\\pmb{\\beta}+\\pmb{\\epsilon}$，其中beta由參數指定，X在函數內部生成。"
   ]
  },
  {
   "cell_type": "code",
   "execution_count": 2,
   "metadata": {},
   "outputs": [],
   "source": [
    "def epsilon(n): # 生成epsilon向量\n",
    "    return np.mat([random.gauss(0,sig_y) for i in range(n)]).T\n",
    "\n",
    "def y_real(beta, n): # 生成X和y \n",
    "    x = []\n",
    "    for j in range(n):\n",
    "        x_l = [random.gauss(0,sig_x) for i in range(p + 1)]\n",
    "        x_l[0] = 1.0 # 生成矩阵X的每一行xi，第一列恒为1\n",
    "        x.append(x_l)\n",
    "    x = np.mat(x)\n",
    "    y = np.matmul(x, beta) + epsilon(n) # y的计算公式\n",
    "    return y, x"
   ]
  },
  {
   "cell_type": "markdown",
   "metadata": {},
   "source": [
    "然后设置合适的参数并进行初始化，其中$\\pmb{\\beta}$的前$p_1$个分量的值為1，其餘的值為0。"
   ]
  },
  {
   "cell_type": "code",
   "execution_count": 3,
   "metadata": {},
   "outputs": [],
   "source": [
    "n = 300\n",
    "p = 20\n",
    "p1 = int(p * 0.5)\n",
    "sig_x = 0.2\n",
    "sig_y = 3\n",
    "x0 = [1 if i == 0 else 0.05 for i in range(p + 1)]\n",
    "M = 5000 \n",
    "beta = np.mat([1 if i <= p1 else 0 for i in range(p + 1)]).T\n",
    "y0_e = np.matmul(x0, beta) # 这个变量是在计算偏差平方和均方误差时所需的x0beta\n",
    "bia = [[] for i in range(p + 1)] # 记录每一次的y0_hat-x0beta\n",
    "y0_hats = [[] for i in range(p + 1)] # 记录每一次的y0_hat"
   ]
  },
  {
   "cell_type": "markdown",
   "metadata": {},
   "source": [
    "对于每一轮，利用公式$\\hat{\\pmb{\\beta}}=(\\pmb{X}'\\pmb{X})^{-1}\\pmb{X}'\\pmb{y}$計算出$\\hat{\\pmb{\\beta}}$的值，然後利用公式$\\hat{y_0}^{(k)}=\\pmb{x_0}'\\hat{\\pmb{\\beta}}^{(k)}$計算出y0的估計值，然後把它和$\\hat{y_0}^{(k)}-\\pmb{x}_0'\\pmb{\\beta}$紀錄到列表中。"
   ]
  },
  {
   "cell_type": "code",
   "execution_count": 4,
   "metadata": {},
   "outputs": [],
   "source": [
    "for m in range(M):\n",
    "    y, x = y_real(beta,  n)\n",
    "    re = np.matmul(x.T,x).I\n",
    "    beta_hat = np.matmul(np.matmul(re,x.T),y)\n",
    "    beta_hat_k = beta_hat\n",
    "    for k in range(p + 1): # 每一次\n",
    "        y0_hat = np.matmul(x0, beta_hat_k)\n",
    "        bi = float(y0_hat - y0_e)\n",
    "        bia[p - k].append(bi)\n",
    "        y0_hats[p - k].append(float(y0_hat))\n",
    "        beta_hat_k[p - k] = 0"
   ]
  },
  {
   "cell_type": "markdown",
   "metadata": {},
   "source": [
    "最后计算出$Bias^2_k,\\ Var_k,\\ MSE_k$并打印出MSE的值和图表。"
   ]
  },
  {
   "cell_type": "code",
   "execution_count": 5,
   "metadata": {},
   "outputs": [
    {
     "name": "stdout",
     "output_type": "stream",
     "text": [
      "MSE\n",
      "0 : 0.2819\n",
      "1 : 0.2364\n",
      "2 : 0.1952\n",
      "3 : 0.1597\n",
      "4 : 0.1298\n",
      "5 : 0.1048\n",
      "6 : 0.0847\n",
      "7 : 0.0695\n",
      "8 : 0.059\n",
      "9 : 0.0535\n",
      "10 : 0.0526\n",
      "11 : 0.0544\n",
      "12 : 0.057\n",
      "13 : 0.0592\n",
      "14 : 0.0609\n",
      "15 : 0.0629\n",
      "16 : 0.0643\n",
      "17 : 0.0666\n",
      "18 : 0.0683\n",
      "19 : 0.0697\n",
      "20 : 0.0717\n"
     ]
    }
   ],
   "source": [
    "bias = []\n",
    "mses = []\n",
    "for k in range(p + 1):\n",
    "    y0_hat_l = np.array(y0_hats[k])\n",
    "    bis = np.array(bia[k])\n",
    "    biask = float(y0_hat_l.mean() - y0_e)\n",
    "    bias.append(biask * biask)\n",
    "    mse = bis * bis\n",
    "    mses.append(mse.mean())\n",
    "print(\"MSE\")\n",
    "for k in range(p + 1):\n",
    "    print(k, ':', round(mses[k], 4))"
   ]
  },
  {
   "cell_type": "code",
   "execution_count": 6,
   "metadata": {},
   "outputs": [
    {
     "data": {
      "image/png": "[encoded data removed]",
      "text/plain": [
       "<Figure size 432x288 with 1 Axes>"
      ]
     },
     "metadata": {
      "needs_background": "light"
     },
     "output_type": "display_data"
    }
   ],
   "source": [
    "T = np.array([x for x in range(p+1)])\n",
    "l1 = np.array(bias)\n",
    "l3 = np.array(mses)\n",
    "l2 = l3 - l1\n",
    "plt.plot(T, l1, label=\"Bias^2\")\n",
    "plt.plot(T, l2, label=\"Var\")\n",
    "plt.plot(T, l3, label=\"MSE\")\n",
    "plt.legend()\n",
    "plt.show()"
   ]
  },
  {
   "cell_type": "markdown",
   "metadata": {},
   "source": [
    "由此我们可以看出，随着k的不断增加，偏差平方非线性减小，在k=10处减小至接近0；方差不断增大，大致呈线性。均方误差先增大后减小，并在k=10处取得最小值。在k<10时，所选参数数量过少，为欠拟合，此时偏差较大，但方差较小。在k>10时，所选参数数量过多，为过拟合，此时基本没有偏差，但方差较大。在k=10处，所选参数和原有的参数恰好相等，均方误差最小，为拟合最好的点。"
   ]
  },
  {
   "cell_type": "markdown",
   "metadata": {},
   "source": [
    "此外，我还尝试了改变向量beta和x0。将向量beta和x0的每个分量改为每次由高斯分布随机生成，打印出的图表如下图。"
   ]
  },
  {
   "cell_type": "code",
   "execution_count": 7,
   "metadata": {},
   "outputs": [
    {
     "data": {
      "image/png": "[encoded data removed]",
      "text/plain": [
       "<Figure size 432x288 with 1 Axes>"
      ]
     },
     "metadata": {
      "needs_background": "light"
     },
     "output_type": "display_data"
    }
   ],
   "source": [
    "def getmean(l_all):\n",
    "    l_all = np.array(l_all).T\n",
    "    l = []\n",
    "    for k in l_all:\n",
    "        l.append(k.mean())\n",
    "    return np.array(l)\n",
    "\n",
    "n = 300\n",
    "p = 20\n",
    "p1 = int(p * 0.5)\n",
    "sig_x = 0.2\n",
    "sig_y = 3\n",
    "M = 4000\n",
    "M1 = 100\n",
    "l1_all = []\n",
    "l2_all = []\n",
    "l3_all = []\n",
    "for m1 in range(M1):\n",
    "    x0 = [1 if i == 0 else random.gauss(0.05,0.05) for i in range(p + 1)]\n",
    "    beta = np.mat([random.gauss(1,1) if i <= p1 else 0 for i in range(p + 1)]).T\n",
    "    y0_e = np.matmul(x0, beta)\n",
    "    bia = [[] for i in range(p + 1)]\n",
    "    y0_hats = [[] for i in range(p + 1)]\n",
    "    for m in range(int(M/M1)):\n",
    "        y, x = y_real(beta,  n)\n",
    "        re = np.matmul(x.T,x).I\n",
    "        beta_hat = np.matmul(np.matmul(re,x.T),y)\n",
    "        beta_hat_k = beta_hat\n",
    "        for k in range(p + 1):\n",
    "            y0_hat = np.matmul(x0, beta_hat_k)\n",
    "            bi = float(y0_hat - y0_e)\n",
    "            bia[p - k].append(bi)\n",
    "            y0_hats[p - k].append(float(y0_hat))\n",
    "            beta_hat_k[p - k] = 0\n",
    "\n",
    "    bias = []\n",
    "    mses = []\n",
    "    for k in range(p + 1):\n",
    "        y0_hat_l = np.array(y0_hats[k])\n",
    "        bis = np.array(bia[k])\n",
    "        biask = float(y0_hat_l.mean() - y0_e)\n",
    "        bias.append(biask * biask)\n",
    "        mse = bis * bis\n",
    "        mses.append(mse.mean())\n",
    "\n",
    "    l1 = np.array(bias)\n",
    "    l3 = np.array(mses)\n",
    "    l2 = l3 - l1\n",
    "    l1_all.append(l1)\n",
    "    l2_all.append(l2)\n",
    "    l3_all.append(l3)\n",
    "\n",
    "l1_f = getmean(l1_all)\n",
    "l2_f = getmean(l2_all)\n",
    "l3_f = getmean(l3_all)\n",
    "T = np.array([x for x in range(p + 1)])\n",
    "plt.plot(T, l1_f, label=\"Bias^2\")\n",
    "plt.plot(T, l2_f, label=\"Var\")\n",
    "plt.plot(T, l3_f, label=\"MSE\")\n",
    "plt.legend()\n",
    "plt.show()"
   ]
  },
  {
   "cell_type": "markdown",
   "metadata": {},
   "source": [
    "通过和前面图表的比较可以看出，一方面这种情况下得到的图表中的三条曲线不如beta和x0固定时得到的平滑。另一方面根据纵轴的显示，三种评价指标的值同等增大了一些。这可能是因为引入了更多的随机元素导致的。可以预测，如果进行足够多轮的随机模拟，也可以得到相对平滑的曲线。"
   ]
  }
 ],
 "metadata": {
  "kernelspec": {
   "display_name": "Python 3",
   "language": "python",
   "name": "python3"
  },
  "language_info": {
   "codemirror_mode": {
    "name": "ipython",
    "version": 3
   },
   "file_extension": ".py",
   "mimetype": "text/x-python",
   "name": "python",
   "nbconvert_exporter": "python",
   "pygments_lexer": "ipython3",
   "version": "3.6.8"
  }
 },
 "nbformat": 4,
 "nbformat_minor": 4
}
