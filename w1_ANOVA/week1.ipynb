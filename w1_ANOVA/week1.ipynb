{
 "cells": [
  {
   "cell_type": "markdown",
   "metadata": {},
   "source": [
    "# Week1 One-way ANOVA\n",
    "## 背景描述\n",
    "为了调查吃巧克力对心血管健康的影响，实验由三种类型的巧克力组成：100g的黑巧克力，含有200mg全脂牛奶的100g黑巧克力和200g的牛奶巧克力。12个实验对象：7女5男。在不同的天数里，每个实验对象将吃一种类型的巧克力，一个小时后测量他们血浆的总抗氧能力。 \n",
    "这是一个因子水平数 𝑎 = 3 和重复次数 𝑛 = 12 的单因子实验。\n"
   ]
  },
  {
   "cell_type": "markdown",
   "metadata": {},
   "source": [
    "## 数据描述\n",
    "实验次序本身具有随机性，无需再随机化\n",
    "\n",
    "| 变量名 | 变量含义 | 变量类型 | 变量取值范围 |\n",
    "| :----------: | :--------: | :----------: | :----------: |\n",
    "| （自变量）Chocolate | 巧克力类型 | categorical variable | [1, 2, 3] |\n",
    "| （因变量）Capacity | 血浆浓度 | continuous variable | Real |\n"
   ]
  },
  {
   "cell_type": "code",
   "execution_count": 1,
   "metadata": {},
   "outputs": [
    {
     "name": "stdout",
     "output_type": "stream",
     "text": [
      "Randomized test sequence: \n",
      " [[  1.    1.  118.8]\n",
      " [  2.    1.  122.6]\n",
      " [  3.    1.  115.6]\n",
      " [  4.    1.  113.6]\n",
      " [  5.    1.  119.5]\n",
      " [  6.    1.  115.9]\n",
      " [  7.    1.  115.8]\n",
      " [  8.    1.  115.1]\n",
      " [  9.    1.  116.9]\n",
      " [ 10.    1.  115.4]\n",
      " [ 11.    1.  115.6]\n",
      " [ 12.    1.  107.9]\n",
      " [  1.    2.  105.4]\n",
      " [  2.    2.  101.1]\n",
      " [  3.    2.  102.7]\n",
      " [  4.    2.   97.1]\n",
      " [  5.    2.  101.9]\n",
      " [  6.    2.   98.9]\n",
      " [  7.    2.  100. ]\n",
      " [  8.    2.   99.8]\n",
      " [  9.    2.  102.6]\n",
      " [ 10.    2.  100.9]\n",
      " [ 11.    2.  104.5]\n",
      " [ 12.    2.   93.5]\n",
      " [  1.    3.  102.1]\n",
      " [  2.    3.  105.8]\n",
      " [  3.    3.   99.6]\n",
      " [  4.    3.  102.7]\n",
      " [  5.    3.   98.8]\n",
      " [  6.    3.  100.9]\n",
      " [  7.    3.  102.8]\n",
      " [  8.    3.   98.7]\n",
      " [  9.    3.   94.7]\n",
      " [ 10.    3.   97.8]\n",
      " [ 11.    3.   99.7]\n",
      " [ 12.    3.   98.6]]\n"
     ]
    }
   ],
   "source": [
    "import pandas as pd\n",
    "print('Randomized test sequence: \\n', pd.read_csv('project1.csv').values)"
   ]
  },
  {
   "cell_type": "markdown",
   "metadata": {},
   "source": [
    "## 问题 \n",
    "注：这里使用 $\\alpha=0.05$ 的显著性水平\n",
    "\n",
    "1. 试判断食用的 3 种巧克力对心血管健康的影响是否有差异.\n",
    "2. 试判断该实验用One-way ANOVA模型是否恰当.\n",
    "3. 估计食用这 3 种巧克力 1h 后血浆的总抗氧能力均值和误差的方差.\n",
    "4. 若Q1判断存在差异，请进行多重比较."
   ]
  },
  {
   "cell_type": "markdown",
   "metadata": {},
   "source": [
    "## 解决方案\n",
    "**Q1:**  \n",
    "检验假设 $H_0: \\mu_1 = \\mu_2 = \\mu_3 = \\mu_4$ ; vs $H_1: \\mu_1, \\mu_2, \\mu_3, \\mu_4$不全相等；\n",
    "\n",
    "在本问题中，采用单因子方差分析模型（One-way ANOVA模型）对问题进行分析。计算得出方差分析表，然后计算出检验统计量F。若$F\\ge F_{1-\\alpha}(f_A,f_e)$，说明$H_0$成立，因子不显著；否则说明$H_0$不成立，说明因子显著。其中$f_A,f_e$分别为因子和误差的自由度。\n",
    "\n",
    "利用python进行分析得到的具体分析结果如下："
   ]
  },
  {
   "cell_type": "code",
   "execution_count": 2,
   "metadata": {},
   "outputs": [
    {
     "name": "stdout",
     "output_type": "stream",
     "text": [
      "The ANOVA table: \n",
      "                 df   sum_sq  mean_sq      F  PR(>F)\n",
      "C(Chocolate)   2.0  1952.64   976.32  93.58     0.0\n",
      "Residual      33.0   344.31    10.43    NaN     NaN\n",
      "\n",
      "Since p-value < 0.05, reject H0.\n",
      "Since F0 > F(0.05,2,33) =  3.28 , reject H0.\n"
     ]
    }
   ],
   "source": [
    "# Import standard packages\n",
    "import numpy as np\n",
    "import pandas as pd\n",
    "import scipy.stats as stats\n",
    "import matplotlib.pyplot as plt\n",
    "import math\n",
    "\n",
    "# Import additional packages\n",
    "from statsmodels.formula.api import ols\n",
    "from statsmodels.stats.anova import anova_lm\n",
    "from scipy.stats import f\n",
    "\n",
    "alpha = 0.05\n",
    "a = 3\n",
    "n = 12 # 与课上讲的符号有差异，课上使用m\n",
    "x = pd.read_csv('project1.csv')\n",
    "data = x.values[:,1:3] # data为去除序号之后的数据\n",
    "\n",
    "# Sort them into groups, according to column 1(\"Chocolate\")\n",
    "group1 = data[data[:,0] == 1,1]\n",
    "group2 = data[data[:,0] == 2,1]\n",
    "group3 = data[data[:,0] == 3,1]\n",
    "# print(group1)\n",
    "\n",
    "# Do the one-way ANOVA\n",
    "df = pd.DataFrame(data, columns = ['Chocolate', 'Capacity'])   \n",
    "model = ols('Capacity ~ C(Chocolate)', df).fit()\n",
    "anovaResults = round(anova_lm(model), 2) # 计算方差分析表，保留两位小数\n",
    "print('The ANOVA table: \\n', anovaResults)  \n",
    "\n",
    "F0, pVal1 = stats.f_oneway(group1, group2, group3)\n",
    "# 法1：\n",
    "# pVal1为ｐ值\n",
    "if pVal1 < alpha:\n",
    "    print('\\nSince p-value < 0.05, reject H0.')\n",
    "else:\n",
    "    print('\\nAccept H0.') \n",
    "    \n",
    "# 法2：\n",
    "# （使用书上符号）dfn=f_A=r-1, dfd=n-r=f_e=r(m-1)\n",
    "F = round(f.ppf(0.95,dfn = a-1,dfd = a*n-a), 2)\n",
    "if F0 > F:\n",
    "    print('Since F0 > F(0.05,2,33) = ', F, ', reject H0.')\n",
    "else:\n",
    "    print('Accept H0.') "
   ]
  },
  {
   "cell_type": "markdown",
   "metadata": {},
   "source": [
    "由方差分析表可知，P值小于 0.05 且F值大于 3.28，落入拒绝域$W=\\{F\\ge F_{1-\\alpha}(f_A,f_e)\\}$中，故拒绝原假设$H_0$，说明因子显著。即食用的 3 种巧克力对心血管健康的影响有差异.。"
   ]
  },
  {
   "cell_type": "markdown",
   "metadata": {},
   "source": [
    "**Q2:**  \n",
    "ANOVA模型： \n",
    "$y_{ij} = \\mu + \\tau_i + \\epsilon_{ij}$ 的误差服从正态独立分布，其均值为零，方差为未知的常数$\\sigma^2$。 \n",
    "想要判断ANOVA模型是否恰当，可以利用残差检测来进行分析。  \n",
    "处理 $i$ 的观测值 $j$ 的残差定义为：$e_{ij} = y_{ij} - \\hat{y}_{ij}$  \n",
    "其中$\\hat{y}_{ij}$是对应于$y_{ij}$的一个估计， \n",
    "$\\hat{y}_{ij} = \\hat{\\mu} + \\hat{\\tau}_i = \\overline{y}_{··} + (\\overline{y}_{i·} - \\overline{y}_{··}) = \\overline{y}_{i·}$  \n",
    "  \n",
    "**1. 独立性检验**  \n",
    "由于题目中的数据不是按照一定时间顺序收集的，无法画出残差的时序图，故无法利用残差图检测残差之间的相关性。"
   ]
  },
  {
   "cell_type": "markdown",
   "metadata": {},
   "source": [
    "利用Durbin-Watson检验，又称DW检验来做独立性检验。是用来检验分析中残差的一阶自相关性的。  \n",
    "各残差的相关性方程为：$e_i = \\rho * e_{i-1} + v_i$，检验的原假设为：$\\rho = 0$，备择假设为：$\\rho \\neq 0$  \n",
    "检验统计量为：$d = \\frac{\\sum^T_{t=2}\\quad(e_i-e_{i-1})^2}{\\sum^T_{t=1}\\quad e_i^2}$  \n",
    "该统计量值越接近 2 越好，一般在 1~3 之间说明没问题，小于 1 这说明残差存在自相关性（有临界值表可以查）。  \n",
    "文献参考：https://en.wikipedia.org/wiki/Durbin%E2%80%93Watson_statistic"
   ]
  },
  {
   "cell_type": "code",
   "execution_count": 3,
   "metadata": {},
   "outputs": [
    {
     "name": "stdout",
     "output_type": "stream",
     "text": [
      "Durbin-Watson检验的统计量为： 2.3\n"
     ]
    }
   ],
   "source": [
    "# 计算抗氧能力的残差\n",
    "data_res = data.astype(float) * 1\n",
    "list_power = [1, 2, 3]\n",
    "for k in list_power:\n",
    "    cnt = data_res[data_res[:,0] == k,1]\n",
    "    data_res[data_res[:,0] == k,1] = cnt - np.mean(cnt)\n",
    "\n",
    "# 用Durbin-Watson检验进行独立性检验\n",
    "def durbin_watson(residuals):\n",
    "    nume = sum(np.diff(residuals.T) ** 2)\n",
    "    deno = sum(residuals ** 2)\n",
    "    return nume / deno\n",
    "res = data_res[:, 1]\n",
    "dw = durbin_watson(res)\n",
    "print('Durbin-Watson检验的统计量为：', round(dw,2))"
   ]
  },
  {
   "cell_type": "markdown",
   "metadata": {},
   "source": [
    "由分析可知，Durbin-Watson检验的统计量为：2.3，在 1~3 之间且非常接近2 ，故没有违反独立性的假定。  \n",
    "  \n",
    "**2. 方差齐性检验** \n",
    "\n",
    "在进行方差分析时要求r个方差相等，这称为方差齐性。方差齐性检验的原假设和备择假设分别如下：\n",
    "$H_0:\\sigma_1^2=\\sigma_2^2=...=\\sigma_r^2\\  vs\\  H_1:诸\\sigma_i^2不全相等$.\n",
    "\n",
    "【法1】Bartlett检验的核心思想是通过求取不同组之间的卡方统计量，然后根据卡方统计量的值来判断组间方差是否相等。该方法极度依赖于数据是正态分布，如果数据非正态分布，则的出来的结果偏差很大。  \n",
    "Bartlett检验统计量为：$\\chi_0^2 = 2.3026\\frac{q}{c}$  \n",
    "其中，$q = (N - a)log_{10}S_p^2 - \\sum_{i=1}^a(n_i - 1)log_{10}S_i^2$  \n",
    "$c = 1 + \\frac{1}{3(a-1)}(\\sum_{i=1}^a(n_i-1)^{-1} - (N - a)^{-1})$  \n",
    "$S_p^2 = \\frac{\\sum_{i=1}^a\\quad(n_i-1)S_i^2}{N - a}$ 且$S_i^2$是第 $i$ 个总体的样本方差；当$\\chi_0^2 > \\chi_{\\alpha,a-1}^2$ 时，拒绝$H_0$，其中$\\chi_{\\alpha,a-1}^2$是自由度为$a-1$的卡方分布上的 $\\alpha$ 分位数。"
   ]
  },
  {
   "cell_type": "code",
   "execution_count": 4,
   "metadata": {},
   "outputs": [
    {
     "name": "stdout",
     "output_type": "stream",
     "text": [
      "Bartlett检验的P值为： 0.81\n",
      "Accept H0\n",
      "Bartlett检验统计量： 0.42\n",
      "𝜒_(𝛼,𝑎−1)^2:  5.99\n",
      "Accept H0\n"
     ]
    }
   ],
   "source": [
    "# 用Bartlett检验进行方差齐性检验\n",
    "bart, pVal2 = stats.bartlett(group1, group2, group3)\n",
    "bart_stat = stats.chi2.isf(alpha, a-1)\n",
    "\n",
    "# 法1：\n",
    "print('Bartlett检验的P值为：', round(pVal2, 2))\n",
    "if pVal2 < alpha:\n",
    "    print('Since p-value < 0.05, reject H0.')\n",
    "else:\n",
    "    print('Accept H0')  \n",
    "\n",
    "# 法2：\n",
    "print('Bartlett检验统计量：', round(bart, 2))\n",
    "print('𝜒_(𝛼,𝑎−1)^2: ', round(bart_stat, 2))\n",
    "if bart > bart_stat:\n",
    "    print('Since 𝜒_0^2 > 𝜒_(𝛼,𝑎−1)^2, reject H0.')\n",
    "else:\n",
    "    print('Accept H0') "
   ]
  },
  {
   "cell_type": "markdown",
   "metadata": {},
   "source": [
    "由分析可知，Bartlett检验的P值大于 0.05 且Bartlett检验统计量小于 7.81，故接受原假设，即残差具有方差齐性。  \n",
    "  \n",
    "【法2】Levene检验是将每个值先转换为该值与其组内均值的偏离程度，然后再用转换后的偏离程度去做方差分析，即组间方差/组内方差。修正后的Levene检验中的均值采用中位数的计算方法，因此这里的偏差用每个处理的观测值$y_{ij}$与该处理中的中位数$\\tilde{y}_{i·}$的偏差的绝对值来表示：$d_{ij} = |y_{ij} - \\tilde{y}_{i·}|, i = 1,2,···,a;j = 1,2,···,n$"
   ]
  },
  {
   "cell_type": "code",
   "execution_count": 5,
   "metadata": {},
   "outputs": [
    {
     "name": "stdout",
     "output_type": "stream",
     "text": [
      "Levene检验的P值为： 0.98\n",
      "Accept H0\n"
     ]
    }
   ],
   "source": [
    "# 用Levene检验进行方差齐性检验\n",
    "lene, pVal3 = stats.levene(group1, group2, group3)\n",
    "print('Levene检验的P值为：', round(pVal3, 2))\n",
    "if pVal3 < alpha:\n",
    "    print('Since p-value < 0.05, reject H0.')\n",
    "else:\n",
    "    print('Accept H0')  \n",
    "   "
   ]
  },
  {
   "cell_type": "markdown",
   "metadata": {},
   "source": [
    "由分析可知，Levene检验的P值大于 0.05，故残差具有方差齐性。"
   ]
  },
  {
   "cell_type": "markdown",
   "metadata": {},
   "source": [
    "**3. 正态性检验**  \n",
    "\n",
    "正态性检验用于判断总体分布是否为正态分布。其检验假设$H_0:总体分布符合正态分布\\  vs\\  H_1:总体分布不符合正态分布$.\n",
    "【法1】利用qq图（The quantitle-quantile plot），来检验数据分布的相似性。令X轴为正态分布的分位数，Y轴为样本分位数，如果这两者构成的点分布在一条直线上，就证明样本数据与正态分布存在线性相关性，即服从正态分布。"
   ]
  },
  {
   "cell_type": "code",
   "execution_count": 6,
   "metadata": {},
   "outputs": [
    {
     "data": {
      "image/png": "[encoded data removed]",
      "text/plain": [
       "<Figure size 432x288 with 1 Axes>"
      ]
     },
     "metadata": {
      "needs_background": "light"
     },
     "output_type": "display_data"
    },
    {
     "name": "stdout",
     "output_type": "stream",
     "text": [
      "[-8.15833333 -7.2        -5.48333333 -3.6        -2.45833333 -2.38333333\n",
      " -1.8        -1.58333333 -1.48333333 -1.38333333 -0.95833333 -0.9\n",
      " -0.7        -0.65833333 -0.58333333 -0.48333333 -0.45833333 -0.45833333\n",
      " -0.25833333 -0.15833333  0.2         0.4         0.71666667  0.84166667\n",
      "  1.2         1.9         1.91666667  2.          2.51666667  2.61666667\n",
      "  2.74166667  3.44166667  3.8         4.7         5.61666667  6.54166667]\n"
     ]
    }
   ],
   "source": [
    "# 用qq图进行正态性检验\n",
    "osm, osr = stats.probplot(res, dist = 'norm', plot = plt)\n",
    "x1 = osm[0][0]\n",
    "y1 = osm[1][0]\n",
    "plt.text(x1, y1, '%.2f' % float(y1), ha = 'center', va = 'bottom',fontsize = 9)\n",
    "x2 = osm[0][-1]\n",
    "y2 = osm[1][-1]\n",
    "plt.text(x2, y2, '%.2f' % float(y2), ha = 'center', va = 'bottom',fontsize = 9)\n",
    "plt.grid()\n",
    "plt.show()\n",
    "\n",
    "print(osm[1])"
   ]
  },
  {
   "cell_type": "markdown",
   "metadata": {},
   "source": [
    "由上图可以看出，总体上来看，误差分布是近似正态的；qq图在右边基本符合一条直线，在左边先稍有上翘，稍向下弯曲。这意味着误差分布的左侧的尾部比起正态分布的尾部要更厚一些；也就是说，最大的残差出现在小于的一侧，且大于期望的值。\n",
    "检测异常值的方法：  \n",
    "计算标准化残差：$d_{ij} = \\frac{e_{ij}}{\\sqrt{MS_E}}$。一般地，标准化残差约 68% 落在 ±1 之内，约 95% 落在 ±2 之内，几乎全部落在 ±3 之内。标准化残差的绝对值大于3的残差是一个可能的异常值。  \n",
    "由上述公式得 $d_1 = \\frac{e_1}{\\sqrt{MS_E}} = \\frac{8.158}{\\sqrt{10.43}} = 2.526 < 3$，说明无明显的异常值，即残差是服从正态分布的。\n",
    "  \n",
    "【法2】利用Shapiro-Wilk检验来做正态性检验，其原假设：样本数据符合正态分布。（注：适用于小样本）  \n",
    "利用方法stats.shapiro()检验正态性，输出结果中第一个为统计量，第二个为P值（统计量越接近 1 越表明数据和正态分布拟合的好，P值大于指定的显著性水平，接受原假设，认为样本来自服从正态分布的总体）"
   ]
  },
  {
   "cell_type": "code",
   "execution_count": 7,
   "metadata": {},
   "outputs": [
    {
     "name": "stdout",
     "output_type": "stream",
     "text": [
      "0.96\n",
      "0.26\n",
      "\n",
      "Accept the null hypothesis.\n"
     ]
    }
   ],
   "source": [
    "# 用Shapiro-Wilk检验进行正态性检验\n",
    "SW, pVal4 = stats.shapiro(res)\n",
    "print(round(SW, 2))\n",
    "print(round(pVal4, 2))\n",
    "\n",
    "if pVal4 > alpha:\n",
    "    print('\\nAccept the null hypothesis.')\n",
    "else:\n",
    "    print('\\nSince p-value > 0.05, reject the null null hypothesis') "
   ]
  },
  {
   "cell_type": "markdown",
   "metadata": {},
   "source": [
    "由上述分析可知，统计量为 0.96，接近 1；且P值为 0.26，大于指定的显著性水平 0.05。故认为残差来自服从正态分布的总体。  "
   ]
  },
  {
   "cell_type": "markdown",
   "metadata": {},
   "source": [
    "**Q3:**  \n",
    "由题意，使用点估计对参数${\\mu}_{i}$和$\\sigma^2$进行估计。由课上所学内容可知，使用最大似然估计的方法，可以得到其点估计为$\\hat{\\mu}_{i}=\\overline{y}_{i·},\\ \\hat\\sigma^2=MS_e$。利用python计算如下。"
   ]
  },
  {
   "cell_type": "code",
   "execution_count": 8,
   "metadata": {},
   "outputs": [
    {
     "name": "stdout",
     "output_type": "stream",
     "text": [
      "Estimate of the population mean：[116.05833333333334, 100.7, 100.18333333333332]\n",
      "An estimate of the population variance：10.43\n"
     ]
    }
   ],
   "source": [
    "# Estimation of Parameter(𝜎2 and 𝜇𝑖 )\n",
    "mu_1 = np.mean(group1)\n",
    "mu_2 = np.mean(group2)\n",
    "mu_3 = np.mean(group3)\n",
    "\n",
    "mu = [mu_1, mu_2, mu_3]\n",
    "\n",
    "sse = 0\n",
    "for i in range(a):\n",
    "    se = 0\n",
    "    power_list = data[data[:,0] == (i + 1),1]\n",
    "    for j in range(n):\n",
    "        se += (power_list[j] - mu[i]) ** 2\n",
    "    sse += se\n",
    "var = round(sse / (a * (n - 1)),2) \n",
    "print('Estimate of the population mean：{0}'.format(mu))\n",
    "print('An estimate of the population variance：{0}'.format(var))"
   ]
  },
  {
   "cell_type": "markdown",
   "metadata": {},
   "source": [
    "由上述分析可知，3 种巧克力对应的血浆的总抗氧能力均值的估计值分别为：116.1, 100.7, 100.2  \n",
    "其方差的估计值为：10.43"
   ]
  },
  {
   "cell_type": "markdown",
   "metadata": {},
   "source": [
    "**Q4:**  \n",
    "由Q1的分析可知，3 种巧克力对应的血浆的总抗氧能力存在显著性差异，故进行多重比较。这里采用Fisher最小显著性差异（LSD）方法。  \n",
    "检验：$H_0: \\mu_i = \\mu_j$ vs $H_1: \\mu_i \\neq \\mu_j$  \n",
    "检验统计量：$t_0 = \\frac{\\overline{y}_{i·} - \\overline{y}_{j·}}{\\sqrt{MS_E·2/n}}$  \n",
    "当$|\\overline{y}_{i·} - \\overline{y}_{j·}| > t_{\\frac{\\alpha}{2},N-a}\\sqrt{MS_E·2/n}$时，拒绝原假设，可表明均值对$\\mu_i$与$\\mu_j$有显著性差异。"
   ]
  },
  {
   "cell_type": "code",
   "execution_count": 9,
   "metadata": {},
   "outputs": [
    {
     "name": "stdout",
     "output_type": "stream",
     "text": [
      "The difference between group 1 and group 2 :  15.4\n",
      "The difference between group 1 and group 3 :  15.9\n",
      "The difference between group 2 and group 3 :  0.5\n",
      "Value of LSD:  2.68\n",
      "No difference between group 2 and group 3 : \n"
     ]
    }
   ],
   "source": [
    "#LSD(least significant difference)最小显著差异\n",
    "def LSD():   \n",
    "    df = a * (n-1)\n",
    "    t_value = stats.t(df).isf(alpha / 2)    \n",
    "    mse = var\n",
    "    lsd = t_value * math.sqrt(2.0 * mse / n)\n",
    "    # print(lsd)\n",
    "    return lsd\n",
    "\n",
    "for i in range(a):\n",
    "    for j in range(i + 1,a):\n",
    "        dist = round(abs(mu[i] - mu[j]), 1)\n",
    "        print('The difference between group', i + 1, 'and group', j + 1, ': ', dist)\n",
    "print('Value of LSD: ', round(LSD(),2))\n",
    "        \n",
    "cmp = 0\n",
    "for s in range(a):\n",
    "    for t in range(s + 1, a):\n",
    "        lsd = LSD()\n",
    "        dist = round(abs(mu[s] - mu[t]), 1)\n",
    "        if(dist < lsd):\n",
    "            print('No difference between group', s + 1, 'and group', t + 1, ': ')\n",
    "            cmp += 1\n",
    "if(cmp == 0):\n",
    "    print('Reject H0, and there is significant difference in the mean value of any two treatments')\n",
    "\n",
    "\n"
   ]
  },
  {
   "cell_type": "markdown",
   "metadata": {},
   "source": [
    "由于LSD临界值小于group1和2，group1和3的两种处理均值的差，故拒绝原假设，认为group1和2，group1和3的均值存在显著性差异。\n",
    "对于group2和3，LSD临界值大于两种处理均值的差，故接受原假设，即group2和3的均值不存在显著性差异。"
   ]
  },
  {
   "cell_type": "markdown",
   "metadata": {},
   "source": [
    "## Week1 作业\n",
    "（1）考虑单因子方差分析:$a=4, m=6, SS_T=10, SS_E=2.5$。写出方差分析表。 "
   ]
  },
  {
   "cell_type": "markdown",
   "metadata": {},
   "source": [
    "解：\n",
    "\n",
    "$$\n",
    "SS_A=SS_T-SS_E=10-2.5=7.5,\\ n=a\\times m=4\\times 6=24,\\ f_A=a-1=3, f_e=n-a=20,\\\\\n",
    "f_T=n-1=23,\\ MS_A=\\frac{SS_A}{f_A}=7.5\\div 3=2.5,\\ MS_e=\\frac{SS_E}{f_e}=2.5\\div 20=0.125,\\\\\n",
    "F=\\frac{MS_A}{MS_e}=\\frac{2.5}{0.125}=20,\\ Y\\sim F(f_A,f_e),\\ p=P(Y\\ge F)=3.102\\times 10^{-6}\n",
    "$$\n",
    "ANOVA Table:\n",
    "\n",
    "| 来源 | 平方和(SS) | 自由度(f) | 均方(MS) | 检验统计量(F) | p值  |\n",
    "| ---- | ---------- | --------- | -------- | ------------- | ---- |\n",
    "| 因子 | 7.5        | 3         | 2.5      | 20            |3.102e-06      |\n",
    "| 误差 | 2.5        | 20        | 0.125    |               |      |\n",
    "| 总和 | 10         | 23        |          |               |      |"
   ]
  },
  {
   "cell_type": "markdown",
   "metadata": {},
   "source": [
    "（2）二样本时，A方法$x_1,x_2,...,x_m$，B方法$y_1,y_2,...,y_m$。证明在平衡设计，因子水平为$a=2$时，One-way ANOVA等价于二样本t检验。"
   ]
  },
  {
   "cell_type": "markdown",
   "metadata": {},
   "source": [
    "解：\n",
    "\n",
    "由题意，若进行单因子方差分析或二样本t检验，均需有以下假设：1.$x\\sim N(\\mu_x,\\sigma_x^2),y\\sim N(\\mu_y,\\sigma_y^2)$；2.$\\sigma_x^2=\\sigma_y^2=\\sigma^2$；3.所有试验结果均相互独立。\n",
    "\n",
    "两种方法均检验$H_0:\\mu_x-\\mu_y=0\\ vs\\ H_0:\\mu_x-\\mu_y\\ne0$。记$\\overline x=\\Sigma_{i=1}^m x_i,\\overline y=\\Sigma_{i=1}^m y_i$。\n",
    "令总均值$\\mu=\\frac{\\overline x+\\overline y}2$，\n",
    "总偏差平方和$S_T=\\Sigma_{i=1}^m(x_i-\\mu)^2+\\Sigma_{i=1}^m(y_i-\\mu)^2$，\n",
    "组内偏差平方和$S_e=\\Sigma_{i=1}^m(x_i-\\overline x)^2+\\Sigma_{i=1}^m(y_i-\\overline y)^2$，\n",
    "组间偏差平方和$S_A=m[(\\overline x-\\mu)^2+(\\overline y-\\mu)^2]$，\n",
    "合方差$s_w^2=\\frac1{2m-2}[\\Sigma_{i=1}^m(x_i-\\overline x)^2+\\Sigma_{i=1}^m(y_i-\\overline y)^2]=\\frac{S_e}{2m-2}$。\n",
    "\n",
    "则单因子方差分析的检验统计量$F=\\frac{MS_A}{MS_e}=\\frac{S_A/(2-1)}{S_e/2m-2}=\\frac{2(m-1)S_A}{S_e}$，二样本t检验的检验统计量$t=\\frac{\\overline x-\\overline y}{s_w\\sqrt{\\frac1m+\\frac1m}}=\\sqrt{\\frac m2}\\frac{\\overline x-\\overline y}{s_w}$。其中$t\\sim t(2m-2),\\ F\\sim F(1,2m-2)$。\n",
    "$$\n",
    "t^2={\\frac m2}(\\frac{\\overline x-\\overline y}{s_w})^2=\\frac{m(\\overline x-\\overline y)^2}{2s_w^2}=\\frac{m(\\overline x-\\overline y)^2}{2\\frac{S_e}{2m-2}}=\\frac{m(m-1)(\\overline x-\\overline y)^2}{S_e}=\\frac{m(m-1)(\\overline x-\\mu-\\overline y+\\mu)^2}{S_e}=\\frac{m(m-1)(\\frac{S_A}m-2(\\overline x-\\mu)(\\overline y-\\mu))}{S_e}=\\frac{(m-1)({S_A}-2m(\\overline x-\\mu)(\\overline y-\\mu))}{S_e}=\\frac{(m-1)({S_A}-\\frac12m(2\\overline x-(\\overline x+\\overline y))(2\\overline y-(\\overline x+\\overline y)))}{S_e}=\\frac{(m-1)({S_A}+\\frac12m(\\overline x-\\overline y)^2)}{S_e}=\\frac{(m-1)({S_A}+S_A)}{S_e}=\\frac{2(m-1)S_A}{S_e}=F\n",
    "$$\n",
    "所以两个检验统计量之间的关系满足$t^2=F$。二样本t检验的拒绝域$W=\\{|t|\\ge t_{1-\\alpha/2}(2m-2)\\}$。由t分布性质可知，若$t\\sim t(2m-2)$，则$t^2\\sim F(1,2m-2)$。因为原先的拒绝域是计算得到的t距离0较大的情况，即t分布的两个尾部，两个尾部的概率和为$\\alpha$。在t取平方之后，符合F分布，F分布只取非负值，仅有一个尾部，所以应使落于该尾部的概率为$\\alpha$。所以$W=\\{t^2\\ge F_{1-\\alpha}(1,2m-2)\\}=\\{F\\ge F_{1-\\alpha}(1,2m-1)\\}$。这正是One-way ANOVA中的拒绝域。所以两个检验的拒绝域相同。\n",
    "\n",
    "二样本t检验的p值为$p=P(|T|\\ge|t|)$，其中$T\\sim t(2m-2)$，t为上述检验统计量。同理可得$Y=T^2\\sim F(1,2m-2),\\ p=P(T^2\\ge t^2)=P(Y\\ge F)$，即One-way ANOVA中的p值。所以两个检验的p值相同。\n",
    "\n",
    "综上所述，在题目所述情况下，单因子方差分析或和二样本t检验的原假设及备择假设，拒绝域及p值相同，检验统计量具有对应关系，可以相互转化。所以题述情况下两种方法等价。"
   ]
  },
  {
   "cell_type": "markdown",
   "metadata": {},
   "source": [
    "（3）自学《概率论与数理统计》8.1.6节，数据如右。模型为：$y_{ij}=\\mu_i+\\epsilon_{ij},\\epsilon_{ij}\\sim N(0,\\sigma^2),i= 1,...,a;j=1,...,m_i$。\n",
    "问题：1.写出效应模型；2.写出$H_0,H_1$；3.写出ANOVA Table及中间符号的计算公式。"
   ]
  },
  {
   "cell_type": "markdown",
   "metadata": {},
   "source": [
    "解：\n",
    "\n",
    "1.令总均值$\\mu=\\frac1n\\Sigma_{i=1}^a m_i\\mu_i$，令水平效应$a_i=\\mu_i-\\mu$。效应模型为\n",
    "$$ \n",
    "\\left\\{\n",
    "\\begin{aligned}\n",
    "y_{ij}=\\mu+a_i+\\epsilon_{ij} \\\\\n",
    "\\Sigma_{i=1}^a m_ia_i=0 \\\\\n",
    "诸\\epsilon_{ij}相互独立，且都服从N(0,\\sigma^2)\n",
    "\\end{aligned}\n",
    "\\right.\n",
    "$$\n",
    "\n",
    "2.$H_0:a_1=a_2=...=a_a=0\\quad vs\\quad H_1:a_1,a_2,...,a_a不全为0.$\n",
    "\n",
    "3.\n",
    "$$\n",
    "n=\\Sigma_{i=1}^a m_i,\\ \\overline y_{i·}=\\frac1{m_i}\\Sigma_{j=1}^{m_i}y_{ij},\\ \\overline y=\\frac1n\\Sigma_{i=1}^a\\Sigma_{j=1}^{m_i}y_{ij},\\\\\n",
    "S_A=\\Sigma_{i=1}^a{m_i}(\\overline y_{i·}-\\overline y)^2,\\ S_e=\\Sigma_{i=1}^a\\Sigma_{j=1}^{m_i}(y_{ij}-\\overline y_{i·})^2,\\ S_T=\\Sigma_{i=1}^a\\Sigma_{j=1}^{m_i}(y_{ij}-\\overline y)^2\n",
    "$$\n",
    "\n",
    "ANOVA Table:\n",
    "\n",
    "| 来源  | 平方和(SS) | 自由度(f) | 均方(MS)               | 检验统计量(F)         | p值           |\n",
    "| ----- | ---------- | --------- | ---------------------- | --------------------- | ------------- |\n",
    "| 因子A | $S_A$      | $f_A=a-1$ | $MS_A=\\frac{S_A}{f_A}$ | $F=\\frac{MS_A}{MS_e}$ | $p=P(Y\\ge F)$ |\n",
    "| 误差e | $S_e$      | $f_e=n-a$ | $MS_e=\\frac{S_e}{f_e}$ |                       |               |\n",
    "| 总和T | $S_T$      | $f_T=n-1$ |                        |                       |               |"
   ]
  },
  {
   "cell_type": "code",
   "execution_count": null,
   "metadata": {},
   "outputs": [],
   "source": []
  }
 ],
 "metadata": {
  "kernelspec": {
   "display_name": "Python 3",
   "language": "python",
   "name": "python3"
  },
  "language_info": {
   "codemirror_mode": {
    "name": "ipython",
    "version": 3
   },
   "file_extension": ".py",
   "mimetype": "text/x-python",
   "name": "python",
   "nbconvert_exporter": "python",
   "pygments_lexer": "ipython3",
   "version": "3.6.8"
  }
 },
 "nbformat": 4,
 "nbformat_minor": 5
}
